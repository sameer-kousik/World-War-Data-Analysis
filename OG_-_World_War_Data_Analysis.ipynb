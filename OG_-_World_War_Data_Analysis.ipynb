{
 "cells": [
  {
   "cell_type": "code",
   "execution_count": 21,
   "metadata": {},
   "outputs": [
    {
     "data": {
      "text/html": [
       "        <script type=\"text/javascript\">\n",
       "        window.PlotlyConfig = {MathJaxConfig: 'local'};\n",
       "        if (window.MathJax) {MathJax.Hub.Config({SVG: {font: \"STIX-Web\"}});}\n",
       "        if (typeof require !== 'undefined') {\n",
       "        require.undef(\"plotly\");\n",
       "        requirejs.config({\n",
       "            paths: {\n",
       "                'plotly': ['https://cdn.plot.ly/plotly-latest.min']\n",
       "            }\n",
       "        });\n",
       "        require(['plotly'], function(Plotly) {\n",
       "            window._Plotly = Plotly;\n",
       "        });\n",
       "        }\n",
       "        </script>\n",
       "        "
      ]
     },
     "metadata": {},
     "output_type": "display_data"
    }
   ],
   "source": [
    "import pandas as pd\n",
    "import cufflinks as cf\n",
    "cf.set_config_file(world_readable=True,offline=True, theme='solar')\n",
    "from ipyleaflet import Map"
   ]
  },
  {
   "cell_type": "code",
   "execution_count": 9,
   "metadata": {},
   "outputs": [],
   "source": [
    "df = pd.read_csv(\"WW2CasualtiesByCountry2.csv\")\n",
    "ww1 = pd.read_csv(\"WW1DeathsCountTotalByCountry.csv\")\n",
    "ww2 = pd.read_csv(\"CompareWars.csv\")"
   ]
  },
  {
   "cell_type": "code",
   "execution_count": 19,
   "metadata": {},
   "outputs": [
    {
     "data": {
      "text/html": [
       "<div>\n",
       "<style scoped>\n",
       "    .dataframe tbody tr th:only-of-type {\n",
       "        vertical-align: middle;\n",
       "    }\n",
       "\n",
       "    .dataframe tbody tr th {\n",
       "        vertical-align: top;\n",
       "    }\n",
       "\n",
       "    .dataframe thead th {\n",
       "        text-align: right;\n",
       "    }\n",
       "</style>\n",
       "<table border=\"1\" class=\"dataframe\">\n",
       "  <thead>\n",
       "    <tr style=\"text-align: right;\">\n",
       "      <th></th>\n",
       "      <th>Nationality</th>\n",
       "      <th>Location</th>\n",
       "      <th>StartDate</th>\n",
       "      <th>EndDate</th>\n",
       "      <th>MinDeaths</th>\n",
       "      <th>MaxDeaths</th>\n",
       "      <th>DeathsOverride</th>\n",
       "      <th>DeathsFinal</th>\n",
       "      <th>AirRate</th>\n",
       "      <th>CivilianRate</th>\n",
       "      <th>IntentionalRate</th>\n",
       "      <th>Tags</th>\n",
       "      <th>AirForce</th>\n",
       "    </tr>\n",
       "  </thead>\n",
       "  <tbody>\n",
       "    <tr>\n",
       "      <td>0</td>\n",
       "      <td>United States</td>\n",
       "      <td>NaN</td>\n",
       "      <td>12-01-1941</td>\n",
       "      <td>12/31/1941</td>\n",
       "      <td>493</td>\n",
       "      <td>493</td>\n",
       "      <td>668.064946</td>\n",
       "      <td>493.0</td>\n",
       "      <td>NaN</td>\n",
       "      <td>0.0</td>\n",
       "      <td>NaN</td>\n",
       "      <td>NaN</td>\n",
       "      <td>NaN</td>\n",
       "    </tr>\n",
       "    <tr>\n",
       "      <td>1</td>\n",
       "      <td>United States</td>\n",
       "      <td>NaN</td>\n",
       "      <td>01-01-1942</td>\n",
       "      <td>1/31/1942</td>\n",
       "      <td>517</td>\n",
       "      <td>517</td>\n",
       "      <td>700.587378</td>\n",
       "      <td>517.0</td>\n",
       "      <td>NaN</td>\n",
       "      <td>0.0</td>\n",
       "      <td>NaN</td>\n",
       "      <td>NaN</td>\n",
       "      <td>army</td>\n",
       "    </tr>\n",
       "    <tr>\n",
       "      <td>2</td>\n",
       "      <td>United States</td>\n",
       "      <td>NaN</td>\n",
       "      <td>02-01-1942</td>\n",
       "      <td>2/29/1942</td>\n",
       "      <td>398</td>\n",
       "      <td>398</td>\n",
       "      <td>539.330322</td>\n",
       "      <td>398.0</td>\n",
       "      <td>NaN</td>\n",
       "      <td>0.0</td>\n",
       "      <td>NaN</td>\n",
       "      <td>NaN</td>\n",
       "      <td>army</td>\n",
       "    </tr>\n",
       "    <tr>\n",
       "      <td>3</td>\n",
       "      <td>United States</td>\n",
       "      <td>NaN</td>\n",
       "      <td>03-01-1942</td>\n",
       "      <td>3/31/1942</td>\n",
       "      <td>135</td>\n",
       "      <td>135</td>\n",
       "      <td>182.938677</td>\n",
       "      <td>135.0</td>\n",
       "      <td>NaN</td>\n",
       "      <td>0.0</td>\n",
       "      <td>NaN</td>\n",
       "      <td>NaN</td>\n",
       "      <td>army</td>\n",
       "    </tr>\n",
       "    <tr>\n",
       "      <td>4</td>\n",
       "      <td>United States</td>\n",
       "      <td>NaN</td>\n",
       "      <td>04-01-1942</td>\n",
       "      <td>4/30/1942</td>\n",
       "      <td>1,051</td>\n",
       "      <td>1,051</td>\n",
       "      <td>1424.211478</td>\n",
       "      <td>1051.0</td>\n",
       "      <td>NaN</td>\n",
       "      <td>0.0</td>\n",
       "      <td>NaN</td>\n",
       "      <td>NaN</td>\n",
       "      <td>army</td>\n",
       "    </tr>\n",
       "    <tr>\n",
       "      <td>...</td>\n",
       "      <td>...</td>\n",
       "      <td>...</td>\n",
       "      <td>...</td>\n",
       "      <td>...</td>\n",
       "      <td>...</td>\n",
       "      <td>...</td>\n",
       "      <td>...</td>\n",
       "      <td>...</td>\n",
       "      <td>...</td>\n",
       "      <td>...</td>\n",
       "      <td>...</td>\n",
       "      <td>...</td>\n",
       "      <td>...</td>\n",
       "    </tr>\n",
       "    <tr>\n",
       "      <td>633</td>\n",
       "      <td>United Kingdom</td>\n",
       "      <td>NaN</td>\n",
       "      <td>01-01-1940</td>\n",
       "      <td>01-01-1940</td>\n",
       "      <td>386</td>\n",
       "      <td>386</td>\n",
       "      <td>NaN</td>\n",
       "      <td>386.0</td>\n",
       "      <td>NaN</td>\n",
       "      <td>0.0</td>\n",
       "      <td>NaN</td>\n",
       "      <td>NaN</td>\n",
       "      <td>NaN</td>\n",
       "    </tr>\n",
       "    <tr>\n",
       "      <td>634</td>\n",
       "      <td>United Kingdom</td>\n",
       "      <td>NaN</td>\n",
       "      <td>03-01-1942</td>\n",
       "      <td>03-01-1942</td>\n",
       "      <td>3086</td>\n",
       "      <td>3086</td>\n",
       "      <td>NaN</td>\n",
       "      <td>3086.0</td>\n",
       "      <td>NaN</td>\n",
       "      <td>0.0</td>\n",
       "      <td>NaN</td>\n",
       "      <td>NaN</td>\n",
       "      <td>NaN</td>\n",
       "    </tr>\n",
       "    <tr>\n",
       "      <td>635</td>\n",
       "      <td>United Kingdom</td>\n",
       "      <td>NaN</td>\n",
       "      <td>10-01-1945</td>\n",
       "      <td>10-01-1945</td>\n",
       "      <td>1157</td>\n",
       "      <td>1157</td>\n",
       "      <td>NaN</td>\n",
       "      <td>1157.0</td>\n",
       "      <td>NaN</td>\n",
       "      <td>0.0</td>\n",
       "      <td>NaN</td>\n",
       "      <td>NaN</td>\n",
       "      <td>NaN</td>\n",
       "    </tr>\n",
       "    <tr>\n",
       "      <td>636</td>\n",
       "      <td>United Kingdom</td>\n",
       "      <td>NaN</td>\n",
       "      <td>10-01-1940</td>\n",
       "      <td>10-01-1940</td>\n",
       "      <td>386</td>\n",
       "      <td>386</td>\n",
       "      <td>NaN</td>\n",
       "      <td>386.0</td>\n",
       "      <td>NaN</td>\n",
       "      <td>0.0</td>\n",
       "      <td>NaN</td>\n",
       "      <td>NaN</td>\n",
       "      <td>NaN</td>\n",
       "    </tr>\n",
       "    <tr>\n",
       "      <td>637</td>\n",
       "      <td>United Kingdom</td>\n",
       "      <td>NaN</td>\n",
       "      <td>03-01-1946</td>\n",
       "      <td>03-01-1946</td>\n",
       "      <td>386</td>\n",
       "      <td>386</td>\n",
       "      <td>NaN</td>\n",
       "      <td>386.0</td>\n",
       "      <td>NaN</td>\n",
       "      <td>0.0</td>\n",
       "      <td>NaN</td>\n",
       "      <td>NaN</td>\n",
       "      <td>NaN</td>\n",
       "    </tr>\n",
       "  </tbody>\n",
       "</table>\n",
       "<p>638 rows × 13 columns</p>\n",
       "</div>"
      ],
      "text/plain": [
       "        Nationality Location   StartDate     EndDate MinDeaths MaxDeaths  \\\n",
       "0     United States      NaN  12-01-1941  12/31/1941       493       493   \n",
       "1     United States      NaN  01-01-1942   1/31/1942       517       517   \n",
       "2     United States      NaN  02-01-1942   2/29/1942       398       398   \n",
       "3     United States      NaN  03-01-1942   3/31/1942       135       135   \n",
       "4     United States      NaN  04-01-1942   4/30/1942     1,051     1,051   \n",
       "..              ...      ...         ...         ...       ...       ...   \n",
       "633  United Kingdom      NaN  01-01-1940  01-01-1940       386       386   \n",
       "634  United Kingdom      NaN  03-01-1942  03-01-1942      3086      3086   \n",
       "635  United Kingdom      NaN  10-01-1945  10-01-1945      1157      1157   \n",
       "636  United Kingdom      NaN  10-01-1940  10-01-1940       386       386   \n",
       "637  United Kingdom      NaN  03-01-1946  03-01-1946       386       386   \n",
       "\n",
       "     DeathsOverride  DeathsFinal  AirRate  CivilianRate  IntentionalRate Tags  \\\n",
       "0        668.064946        493.0      NaN           0.0              NaN  NaN   \n",
       "1        700.587378        517.0      NaN           0.0              NaN  NaN   \n",
       "2        539.330322        398.0      NaN           0.0              NaN  NaN   \n",
       "3        182.938677        135.0      NaN           0.0              NaN  NaN   \n",
       "4       1424.211478       1051.0      NaN           0.0              NaN  NaN   \n",
       "..              ...          ...      ...           ...              ...  ...   \n",
       "633             NaN        386.0      NaN           0.0              NaN  NaN   \n",
       "634             NaN       3086.0      NaN           0.0              NaN  NaN   \n",
       "635             NaN       1157.0      NaN           0.0              NaN  NaN   \n",
       "636             NaN        386.0      NaN           0.0              NaN  NaN   \n",
       "637             NaN        386.0      NaN           0.0              NaN  NaN   \n",
       "\n",
       "    AirForce  \n",
       "0        NaN  \n",
       "1       army  \n",
       "2       army  \n",
       "3       army  \n",
       "4       army  \n",
       "..       ...  \n",
       "633      NaN  \n",
       "634      NaN  \n",
       "635      NaN  \n",
       "636      NaN  \n",
       "637      NaN  \n",
       "\n",
       "[638 rows x 13 columns]"
      ]
     },
     "execution_count": 19,
     "metadata": {},
     "output_type": "execute_result"
    }
   ],
   "source": [
    "df"
   ]
  },
  {
   "cell_type": "code",
   "execution_count": 10,
   "metadata": {},
   "outputs": [],
   "source": [
    "df2 = df.drop([\"Location\", \"StartDate\", \"EndDate\",\"MinDeaths\",\"MaxDeaths\",\"DeathsOverride\",\"AirRate\",\"CivilianRate\",\"IntentionalRate\",\"Tags\",\"AirForce\"], axis=1)"
   ]
  },
  {
   "cell_type": "code",
   "execution_count": 11,
   "metadata": {},
   "outputs": [],
   "source": [
    "nations = df2.groupby(\"Nationality\")"
   ]
  },
  {
   "cell_type": "code",
   "execution_count": 12,
   "metadata": {},
   "outputs": [
    {
     "data": {
      "text/plain": [
       "Nationality\n",
       "Albania                                30000.0\n",
       "Australia                              40500.0\n",
       "Austria                               120000.0\n",
       "Belgium                                88000.0\n",
       "Brazil                                  2000.0\n",
       "Bulgaria                               25000.0\n",
       "Burma                                 272000.0\n",
       "Canada                                 45400.0\n",
       "China                                3500789.0\n",
       "Cuba                                     100.0\n",
       "Czechoslovakia                        325000.0\n",
       "Denmark                                 3200.0\n",
       "Dutch East Indies                    3500000.0\n",
       "Estonia                                50000.0\n",
       "Ethiopia                              100000.0\n",
       "Finland                                97000.0\n",
       "France                                552600.0\n",
       "French Indochina                     1250000.0\n",
       "Germany                              7628176.0\n",
       "Greece                                327550.0\n",
       "Hungary                               804500.0\n",
       "Iceland                                  200.0\n",
       "India                                2087000.0\n",
       "Iran                                     200.0\n",
       "Iraq                                     500.0\n",
       "Ireland                                  200.0\n",
       "Italy                                 444290.0\n",
       "Japan                                2870149.5\n",
       "Korea                                 430500.0\n",
       "Latvia                                230000.0\n",
       "Lithuania                             350000.0\n",
       "Luxembourg                              2000.0\n",
       "Malaya                                100000.0\n",
       "Malta                                   1500.0\n",
       "Mexico                                   100.0\n",
       "Mongolia                                 300.0\n",
       "Nauru (Australian)                       500.0\n",
       "Netherlands                           301000.0\n",
       "New Zealand                            11900.0\n",
       "Newfoundland                             100.0\n",
       "Norway                                  9500.0\n",
       "Papua and New Guinea (Australian)      15000.0\n",
       "Philippines                           807000.0\n",
       "Poland                               2898500.0\n",
       "Portuguese Timor                       55000.0\n",
       "Romania                               616400.0\n",
       "Ruanda-Urundi (Belgian)               150000.0\n",
       "Singapore                              50000.0\n",
       "Slovakia                               65500.0\n",
       "South Africa                           11900.0\n",
       "South Pacific Mandate (Japanese)       57000.0\n",
       "Soviet Union                         4792982.0\n",
       "Sweden                                   600.0\n",
       "Switzerland                              100.0\n",
       "Thailand                                7600.0\n",
       "Turkey                                   200.0\n",
       "United Kingdom                        450901.0\n",
       "United States                         288001.0\n",
       "Yugoslavia                           1027000.0\n",
       "Name: DeathsFinal, dtype: float64"
      ]
     },
     "execution_count": 12,
     "metadata": {},
     "output_type": "execute_result"
    }
   ],
   "source": [
    "nations['DeathsFinal'].sum()"
   ]
  },
  {
   "cell_type": "code",
   "execution_count": 59,
   "metadata": {},
   "outputs": [
    {
     "data": {
      "application/vnd.plotly.v1+json": {
       "config": {
        "linkText": "Export to plot.ly",
        "plotlyServerURL": "https://plot.ly",
        "showLink": true
       },
       "data": [
        {
         "marker": {
          "color": "rgba(255, 153, 51, 0.6)",
          "line": {
           "color": "rgba(255, 153, 51, 1.0)",
           "width": 1
          }
         },
         "name": "DeathsFinal",
         "orientation": "v",
         "text": "",
         "type": "bar",
         "uid": "fcc9858c-6570-4585-9509-cf1f234aab43",
         "x": [
          "Albania",
          "Australia",
          "Austria",
          "Belgium",
          "Brazil",
          "Bulgaria",
          "Burma",
          "Canada",
          "China",
          "Cuba",
          "Czechoslovakia",
          "Denmark",
          "Dutch East Indies",
          "Estonia",
          "Ethiopia",
          "Finland",
          "France",
          "French Indochina",
          "Germany",
          "Greece",
          "Hungary",
          "Iceland",
          "India",
          "Iran",
          "Iraq",
          "Ireland",
          "Italy",
          "Japan",
          "Korea",
          "Latvia",
          "Lithuania",
          "Luxembourg",
          "Malaya",
          "Malta",
          "Mexico",
          "Mongolia",
          "Nauru (Australian)",
          "Netherlands",
          "New Zealand",
          "Newfoundland",
          "Norway",
          "Papua and New Guinea (Australian)",
          "Philippines",
          "Poland",
          "Portuguese Timor",
          "Romania",
          "Ruanda-Urundi (Belgian)",
          "Singapore",
          "Slovakia",
          "South Africa",
          "South Pacific Mandate (Japanese)",
          "Soviet Union",
          "Sweden",
          "Switzerland",
          "Thailand",
          "Turkey",
          "United Kingdom",
          "United States",
          "Yugoslavia"
         ],
         "y": [
          30000,
          40500,
          120000,
          88000,
          2000,
          25000,
          272000,
          45400,
          3500789,
          100,
          325000,
          3200,
          3500000,
          50000,
          100000,
          97000,
          552600,
          1250000,
          7628176,
          327550,
          804500,
          200,
          2087000,
          200,
          500,
          200,
          444290,
          2870149.5,
          430500,
          230000,
          350000,
          2000,
          100000,
          1500,
          100,
          300,
          500,
          301000,
          11900,
          100,
          9500,
          15000,
          807000,
          2898500,
          55000,
          616400,
          150000,
          50000,
          65500,
          11900,
          57000,
          4792982,
          600,
          100,
          7600,
          200,
          450901,
          288001,
          1027000
         ]
        }
       ],
       "layout": {
        "legend": {
         "bgcolor": "#151516",
         "font": {
          "color": "#D9D9D9"
         }
        },
        "paper_bgcolor": "#151516",
        "plot_bgcolor": "#151516",
        "title": {
         "font": {
          "color": "#D9D9D9"
         }
        },
        "xaxis": {
         "gridcolor": "#434343",
         "showgrid": true,
         "tickfont": {
          "color": "#C2C2C2"
         },
         "title": {
          "font": {
           "color": "#D9D9D9"
          },
          "text": ""
         },
         "zerolinecolor": "#666570"
        },
        "yaxis": {
         "gridcolor": "#434343",
         "showgrid": true,
         "tickfont": {
          "color": "#C2C2C2"
         },
         "title": {
          "font": {
           "color": "#D9D9D9"
          },
          "text": ""
         },
         "zerolinecolor": "#666570"
        }
       }
      },
      "text/html": [
       "<div>\n",
       "        \n",
       "        \n",
       "            <div id=\"9db679da-d36b-4cf7-a6dc-8564ae15988f\" class=\"plotly-graph-div\" style=\"height:525px; width:100%;\"></div>\n",
       "            <script type=\"text/javascript\">\n",
       "                require([\"plotly\"], function(Plotly) {\n",
       "                    window.PLOTLYENV=window.PLOTLYENV || {};\n",
       "                    window.PLOTLYENV.BASE_URL='https://plot.ly';\n",
       "                    \n",
       "                if (document.getElementById(\"9db679da-d36b-4cf7-a6dc-8564ae15988f\")) {\n",
       "                    Plotly.newPlot(\n",
       "                        '9db679da-d36b-4cf7-a6dc-8564ae15988f',\n",
       "                        [{\"marker\": {\"color\": \"rgba(255, 153, 51, 0.6)\", \"line\": {\"color\": \"rgba(255, 153, 51, 1.0)\", \"width\": 1}}, \"name\": \"DeathsFinal\", \"orientation\": \"v\", \"text\": \"\", \"type\": \"bar\", \"uid\": \"fcc9858c-6570-4585-9509-cf1f234aab43\", \"x\": [\"Albania\", \"Australia\", \"Austria\", \"Belgium\", \"Brazil\", \"Bulgaria\", \"Burma\", \"Canada\", \"China\", \"Cuba\", \"Czechoslovakia\", \"Denmark\", \"Dutch East Indies\", \"Estonia\", \"Ethiopia\", \"Finland\", \"France\", \"French Indochina\", \"Germany\", \"Greece\", \"Hungary\", \"Iceland\", \"India\", \"Iran\", \"Iraq\", \"Ireland\", \"Italy\", \"Japan\", \"Korea\", \"Latvia\", \"Lithuania\", \"Luxembourg\", \"Malaya\", \"Malta\", \"Mexico\", \"Mongolia\", \"Nauru (Australian)\", \"Netherlands\", \"New Zealand\", \"Newfoundland\", \"Norway\", \"Papua and New Guinea (Australian)\", \"Philippines\", \"Poland\", \"Portuguese Timor\", \"Romania\", \"Ruanda-Urundi (Belgian)\", \"Singapore\", \"Slovakia\", \"South Africa\", \"South Pacific Mandate (Japanese)\", \"Soviet Union\", \"Sweden\", \"Switzerland\", \"Thailand\", \"Turkey\", \"United Kingdom\", \"United States\", \"Yugoslavia\"], \"y\": [30000.0, 40500.0, 120000.0, 88000.0, 2000.0, 25000.0, 272000.0, 45400.0, 3500789.0, 100.0, 325000.0, 3200.0, 3500000.0, 50000.0, 100000.0, 97000.0, 552600.0, 1250000.0, 7628176.0, 327550.0, 804500.0, 200.0, 2087000.0, 200.0, 500.0, 200.0, 444290.0, 2870149.5, 430500.0, 230000.0, 350000.0, 2000.0, 100000.0, 1500.0, 100.0, 300.0, 500.0, 301000.0, 11900.0, 100.0, 9500.0, 15000.0, 807000.0, 2898500.0, 55000.0, 616400.0, 150000.0, 50000.0, 65500.0, 11900.0, 57000.0, 4792982.0, 600.0, 100.0, 7600.0, 200.0, 450901.0, 288001.0, 1027000.0]}],\n",
       "                        {\"legend\": {\"bgcolor\": \"#151516\", \"font\": {\"color\": \"#D9D9D9\"}}, \"paper_bgcolor\": \"#151516\", \"plot_bgcolor\": \"#151516\", \"title\": {\"font\": {\"color\": \"#D9D9D9\"}}, \"xaxis\": {\"gridcolor\": \"#434343\", \"showgrid\": true, \"tickfont\": {\"color\": \"#C2C2C2\"}, \"title\": {\"font\": {\"color\": \"#D9D9D9\"}, \"text\": \"\"}, \"zerolinecolor\": \"#666570\"}, \"yaxis\": {\"gridcolor\": \"#434343\", \"showgrid\": true, \"tickfont\": {\"color\": \"#C2C2C2\"}, \"title\": {\"font\": {\"color\": \"#D9D9D9\"}, \"text\": \"\"}, \"zerolinecolor\": \"#666570\"}},\n",
       "                        {\"showLink\": true, \"linkText\": \"Export to plot.ly\", \"plotlyServerURL\": \"https://plot.ly\", \"responsive\": true}\n",
       "                    ).then(function(){\n",
       "                            \n",
       "var gd = document.getElementById('9db679da-d36b-4cf7-a6dc-8564ae15988f');\n",
       "var x = new MutationObserver(function (mutations, observer) {{\n",
       "        var display = window.getComputedStyle(gd).display;\n",
       "        if (!display || display === 'none') {{\n",
       "            console.log([gd, 'removed!']);\n",
       "            Plotly.purge(gd);\n",
       "            observer.disconnect();\n",
       "        }}\n",
       "}});\n",
       "\n",
       "// Listen for the removal of the full notebook cells\n",
       "var notebookContainer = gd.closest('#notebook-container');\n",
       "if (notebookContainer) {{\n",
       "    x.observe(notebookContainer, {childList: true});\n",
       "}}\n",
       "\n",
       "// Listen for the clearing of the current output cell\n",
       "var outputEl = gd.closest('.output');\n",
       "if (outputEl) {{\n",
       "    x.observe(outputEl, {childList: true});\n",
       "}}\n",
       "\n",
       "                        })\n",
       "                };\n",
       "                });\n",
       "            </script>\n",
       "        </div>"
      ]
     },
     "metadata": {},
     "output_type": "display_data"
    }
   ],
   "source": [
    "nations['DeathsFinal'].sum().iplot(kind='bar',filename='DeathBar')"
   ]
  },
  {
   "cell_type": "code",
   "execution_count": 14,
   "metadata": {},
   "outputs": [
    {
     "data": {
      "application/vnd.plotly.v1+json": {
       "config": {
        "linkText": "Export to plot.ly",
        "plotlyServerURL": "https://plot.ly",
        "showLink": true
       },
       "data": [
        {
         "histfunc": "count",
         "histnorm": "",
         "marker": {
          "color": "rgba(255, 153, 51, 1.0)",
          "line": {
           "color": "#D9D9D9",
           "width": 1.3
          }
         },
         "name": "DeathsFinal",
         "opacity": 0.8,
         "orientation": "v",
         "type": "histogram",
         "uid": "b41fc2c6-9eb2-4377-9769-cf636e78f8e4",
         "x": [
          30000,
          40500,
          120000,
          88000,
          2000,
          25000,
          272000,
          45400,
          3500789,
          100,
          325000,
          3200,
          3500000,
          50000,
          100000,
          97000,
          552600,
          1250000,
          7628176,
          327550,
          804500,
          200,
          2087000,
          200,
          500,
          200,
          444290,
          2870149.5,
          430500,
          230000,
          350000,
          2000,
          100000,
          1500,
          100,
          300,
          500,
          301000,
          11900,
          100,
          9500,
          15000,
          807000,
          2898500,
          55000,
          616400,
          150000,
          50000,
          65500,
          11900,
          57000,
          4792982,
          600,
          100,
          7600,
          200,
          450901,
          288001,
          1027000
         ]
        }
       ],
       "layout": {
        "barmode": "overlay",
        "legend": {
         "bgcolor": "#151516",
         "font": {
          "color": "#D9D9D9"
         }
        },
        "paper_bgcolor": "#151516",
        "plot_bgcolor": "#151516",
        "title": {
         "font": {
          "color": "#D9D9D9"
         }
        },
        "xaxis": {
         "gridcolor": "#434343",
         "showgrid": true,
         "tickfont": {
          "color": "#C2C2C2"
         },
         "title": {
          "font": {
           "color": "#D9D9D9"
          },
          "text": ""
         },
         "zerolinecolor": "#666570"
        },
        "yaxis": {
         "gridcolor": "#434343",
         "showgrid": true,
         "tickfont": {
          "color": "#C2C2C2"
         },
         "title": {
          "font": {
           "color": "#D9D9D9"
          },
          "text": ""
         },
         "zerolinecolor": "#666570"
        }
       }
      },
      "text/html": [
       "<div>\n",
       "        \n",
       "        \n",
       "            <div id=\"dce2edf9-19c1-4571-ab3b-f7d51e72b340\" class=\"plotly-graph-div\" style=\"height:525px; width:100%;\"></div>\n",
       "            <script type=\"text/javascript\">\n",
       "                require([\"plotly\"], function(Plotly) {\n",
       "                    window.PLOTLYENV=window.PLOTLYENV || {};\n",
       "                    window.PLOTLYENV.BASE_URL='https://plot.ly';\n",
       "                    \n",
       "                if (document.getElementById(\"dce2edf9-19c1-4571-ab3b-f7d51e72b340\")) {\n",
       "                    Plotly.newPlot(\n",
       "                        'dce2edf9-19c1-4571-ab3b-f7d51e72b340',\n",
       "                        [{\"histfunc\": \"count\", \"histnorm\": \"\", \"marker\": {\"color\": \"rgba(255, 153, 51, 1.0)\", \"line\": {\"color\": \"#D9D9D9\", \"width\": 1.3}}, \"name\": \"DeathsFinal\", \"opacity\": 0.8, \"orientation\": \"v\", \"type\": \"histogram\", \"uid\": \"b41fc2c6-9eb2-4377-9769-cf636e78f8e4\", \"x\": [30000.0, 40500.0, 120000.0, 88000.0, 2000.0, 25000.0, 272000.0, 45400.0, 3500789.0, 100.0, 325000.0, 3200.0, 3500000.0, 50000.0, 100000.0, 97000.0, 552600.0, 1250000.0, 7628176.0, 327550.0, 804500.0, 200.0, 2087000.0, 200.0, 500.0, 200.0, 444290.0, 2870149.5, 430500.0, 230000.0, 350000.0, 2000.0, 100000.0, 1500.0, 100.0, 300.0, 500.0, 301000.0, 11900.0, 100.0, 9500.0, 15000.0, 807000.0, 2898500.0, 55000.0, 616400.0, 150000.0, 50000.0, 65500.0, 11900.0, 57000.0, 4792982.0, 600.0, 100.0, 7600.0, 200.0, 450901.0, 288001.0, 1027000.0]}],\n",
       "                        {\"barmode\": \"overlay\", \"legend\": {\"bgcolor\": \"#151516\", \"font\": {\"color\": \"#D9D9D9\"}}, \"paper_bgcolor\": \"#151516\", \"plot_bgcolor\": \"#151516\", \"title\": {\"font\": {\"color\": \"#D9D9D9\"}}, \"xaxis\": {\"gridcolor\": \"#434343\", \"showgrid\": true, \"tickfont\": {\"color\": \"#C2C2C2\"}, \"title\": {\"font\": {\"color\": \"#D9D9D9\"}, \"text\": \"\"}, \"zerolinecolor\": \"#666570\"}, \"yaxis\": {\"gridcolor\": \"#434343\", \"showgrid\": true, \"tickfont\": {\"color\": \"#C2C2C2\"}, \"title\": {\"font\": {\"color\": \"#D9D9D9\"}, \"text\": \"\"}, \"zerolinecolor\": \"#666570\"}},\n",
       "                        {\"showLink\": true, \"linkText\": \"Export to plot.ly\", \"plotlyServerURL\": \"https://plot.ly\", \"responsive\": true}\n",
       "                    ).then(function(){\n",
       "                            \n",
       "var gd = document.getElementById('dce2edf9-19c1-4571-ab3b-f7d51e72b340');\n",
       "var x = new MutationObserver(function (mutations, observer) {{\n",
       "        var display = window.getComputedStyle(gd).display;\n",
       "        if (!display || display === 'none') {{\n",
       "            console.log([gd, 'removed!']);\n",
       "            Plotly.purge(gd);\n",
       "            observer.disconnect();\n",
       "        }}\n",
       "}});\n",
       "\n",
       "// Listen for the removal of the full notebook cells\n",
       "var notebookContainer = gd.closest('#notebook-container');\n",
       "if (notebookContainer) {{\n",
       "    x.observe(notebookContainer, {childList: true});\n",
       "}}\n",
       "\n",
       "// Listen for the clearing of the current output cell\n",
       "var outputEl = gd.closest('.output');\n",
       "if (outputEl) {{\n",
       "    x.observe(outputEl, {childList: true});\n",
       "}}\n",
       "\n",
       "                        })\n",
       "                };\n",
       "                });\n",
       "            </script>\n",
       "        </div>"
      ]
     },
     "metadata": {},
     "output_type": "display_data"
    }
   ],
   "source": [
    "nations['DeathsFinal'].sum().iplot(kind='histogram')"
   ]
  },
  {
   "cell_type": "code",
   "execution_count": 15,
   "metadata": {},
   "outputs": [
    {
     "data": {
      "application/vnd.plotly.v1+json": {
       "config": {
        "linkText": "Export to plot.ly",
        "plotlyServerURL": "https://plot.ly",
        "showLink": true
       },
       "data": [
        {
         "line": {
          "color": "rgba(255, 153, 51, 1.0)",
          "dash": "solid",
          "shape": "linear",
          "width": 1.3
         },
         "mode": "lines",
         "name": "DeathsFinal",
         "text": "",
         "type": "scatter",
         "uid": "cfe04614-dd82-4b75-b039-c8cfc9a83839",
         "x": [
          "Albania",
          "Australia",
          "Austria",
          "Belgium",
          "Brazil",
          "Bulgaria",
          "Burma",
          "Canada",
          "China",
          "Cuba",
          "Czechoslovakia",
          "Denmark",
          "Dutch East Indies",
          "Estonia",
          "Ethiopia",
          "Finland",
          "France",
          "French Indochina",
          "Germany",
          "Greece",
          "Hungary",
          "Iceland",
          "India",
          "Iran",
          "Iraq",
          "Ireland",
          "Italy",
          "Japan",
          "Korea",
          "Latvia",
          "Lithuania",
          "Luxembourg",
          "Malaya",
          "Malta",
          "Mexico",
          "Mongolia",
          "Nauru (Australian)",
          "Netherlands",
          "New Zealand",
          "Newfoundland",
          "Norway",
          "Papua and New Guinea (Australian)",
          "Philippines",
          "Poland",
          "Portuguese Timor",
          "Romania",
          "Ruanda-Urundi (Belgian)",
          "Singapore",
          "Slovakia",
          "South Africa",
          "South Pacific Mandate (Japanese)",
          "Soviet Union",
          "Sweden",
          "Switzerland",
          "Thailand",
          "Turkey",
          "United Kingdom",
          "United States",
          "Yugoslavia"
         ],
         "y": [
          30000,
          40500,
          120000,
          88000,
          2000,
          25000,
          272000,
          45400,
          3500789,
          100,
          325000,
          3200,
          3500000,
          50000,
          100000,
          97000,
          552600,
          1250000,
          7628176,
          327550,
          804500,
          200,
          2087000,
          200,
          500,
          200,
          444290,
          2870149.5,
          430500,
          230000,
          350000,
          2000,
          100000,
          1500,
          100,
          300,
          500,
          301000,
          11900,
          100,
          9500,
          15000,
          807000,
          2898500,
          55000,
          616400,
          150000,
          50000,
          65500,
          11900,
          57000,
          4792982,
          600,
          100,
          7600,
          200,
          450901,
          288001,
          1027000
         ]
        }
       ],
       "layout": {
        "legend": {
         "bgcolor": "#151516",
         "font": {
          "color": "#D9D9D9"
         }
        },
        "paper_bgcolor": "#151516",
        "plot_bgcolor": "#151516",
        "title": {
         "font": {
          "color": "#D9D9D9"
         }
        },
        "xaxis": {
         "gridcolor": "#434343",
         "showgrid": true,
         "tickfont": {
          "color": "#C2C2C2"
         },
         "title": {
          "font": {
           "color": "#D9D9D9"
          },
          "text": ""
         },
         "zerolinecolor": "#666570"
        },
        "yaxis": {
         "gridcolor": "#434343",
         "showgrid": true,
         "tickfont": {
          "color": "#C2C2C2"
         },
         "title": {
          "font": {
           "color": "#D9D9D9"
          },
          "text": ""
         },
         "zerolinecolor": "#666570"
        }
       }
      },
      "text/html": [
       "<div>\n",
       "        \n",
       "        \n",
       "            <div id=\"7407276a-9b85-4b1f-a237-5358abae8efa\" class=\"plotly-graph-div\" style=\"height:525px; width:100%;\"></div>\n",
       "            <script type=\"text/javascript\">\n",
       "                require([\"plotly\"], function(Plotly) {\n",
       "                    window.PLOTLYENV=window.PLOTLYENV || {};\n",
       "                    window.PLOTLYENV.BASE_URL='https://plot.ly';\n",
       "                    \n",
       "                if (document.getElementById(\"7407276a-9b85-4b1f-a237-5358abae8efa\")) {\n",
       "                    Plotly.newPlot(\n",
       "                        '7407276a-9b85-4b1f-a237-5358abae8efa',\n",
       "                        [{\"line\": {\"color\": \"rgba(255, 153, 51, 1.0)\", \"dash\": \"solid\", \"shape\": \"linear\", \"width\": 1.3}, \"mode\": \"lines\", \"name\": \"DeathsFinal\", \"text\": \"\", \"type\": \"scatter\", \"uid\": \"cfe04614-dd82-4b75-b039-c8cfc9a83839\", \"x\": [\"Albania\", \"Australia\", \"Austria\", \"Belgium\", \"Brazil\", \"Bulgaria\", \"Burma\", \"Canada\", \"China\", \"Cuba\", \"Czechoslovakia\", \"Denmark\", \"Dutch East Indies\", \"Estonia\", \"Ethiopia\", \"Finland\", \"France\", \"French Indochina\", \"Germany\", \"Greece\", \"Hungary\", \"Iceland\", \"India\", \"Iran\", \"Iraq\", \"Ireland\", \"Italy\", \"Japan\", \"Korea\", \"Latvia\", \"Lithuania\", \"Luxembourg\", \"Malaya\", \"Malta\", \"Mexico\", \"Mongolia\", \"Nauru (Australian)\", \"Netherlands\", \"New Zealand\", \"Newfoundland\", \"Norway\", \"Papua and New Guinea (Australian)\", \"Philippines\", \"Poland\", \"Portuguese Timor\", \"Romania\", \"Ruanda-Urundi (Belgian)\", \"Singapore\", \"Slovakia\", \"South Africa\", \"South Pacific Mandate (Japanese)\", \"Soviet Union\", \"Sweden\", \"Switzerland\", \"Thailand\", \"Turkey\", \"United Kingdom\", \"United States\", \"Yugoslavia\"], \"y\": [30000.0, 40500.0, 120000.0, 88000.0, 2000.0, 25000.0, 272000.0, 45400.0, 3500789.0, 100.0, 325000.0, 3200.0, 3500000.0, 50000.0, 100000.0, 97000.0, 552600.0, 1250000.0, 7628176.0, 327550.0, 804500.0, 200.0, 2087000.0, 200.0, 500.0, 200.0, 444290.0, 2870149.5, 430500.0, 230000.0, 350000.0, 2000.0, 100000.0, 1500.0, 100.0, 300.0, 500.0, 301000.0, 11900.0, 100.0, 9500.0, 15000.0, 807000.0, 2898500.0, 55000.0, 616400.0, 150000.0, 50000.0, 65500.0, 11900.0, 57000.0, 4792982.0, 600.0, 100.0, 7600.0, 200.0, 450901.0, 288001.0, 1027000.0]}],\n",
       "                        {\"legend\": {\"bgcolor\": \"#151516\", \"font\": {\"color\": \"#D9D9D9\"}}, \"paper_bgcolor\": \"#151516\", \"plot_bgcolor\": \"#151516\", \"title\": {\"font\": {\"color\": \"#D9D9D9\"}}, \"xaxis\": {\"gridcolor\": \"#434343\", \"showgrid\": true, \"tickfont\": {\"color\": \"#C2C2C2\"}, \"title\": {\"font\": {\"color\": \"#D9D9D9\"}, \"text\": \"\"}, \"zerolinecolor\": \"#666570\"}, \"yaxis\": {\"gridcolor\": \"#434343\", \"showgrid\": true, \"tickfont\": {\"color\": \"#C2C2C2\"}, \"title\": {\"font\": {\"color\": \"#D9D9D9\"}, \"text\": \"\"}, \"zerolinecolor\": \"#666570\"}},\n",
       "                        {\"showLink\": true, \"linkText\": \"Export to plot.ly\", \"plotlyServerURL\": \"https://plot.ly\", \"responsive\": true}\n",
       "                    ).then(function(){\n",
       "                            \n",
       "var gd = document.getElementById('7407276a-9b85-4b1f-a237-5358abae8efa');\n",
       "var x = new MutationObserver(function (mutations, observer) {{\n",
       "        var display = window.getComputedStyle(gd).display;\n",
       "        if (!display || display === 'none') {{\n",
       "            console.log([gd, 'removed!']);\n",
       "            Plotly.purge(gd);\n",
       "            observer.disconnect();\n",
       "        }}\n",
       "}});\n",
       "\n",
       "// Listen for the removal of the full notebook cells\n",
       "var notebookContainer = gd.closest('#notebook-container');\n",
       "if (notebookContainer) {{\n",
       "    x.observe(notebookContainer, {childList: true});\n",
       "}}\n",
       "\n",
       "// Listen for the clearing of the current output cell\n",
       "var outputEl = gd.closest('.output');\n",
       "if (outputEl) {{\n",
       "    x.observe(outputEl, {childList: true});\n",
       "}}\n",
       "\n",
       "                        })\n",
       "                };\n",
       "                });\n",
       "            </script>\n",
       "        </div>"
      ]
     },
     "metadata": {},
     "output_type": "display_data"
    }
   ],
   "source": [
    "nations['DeathsFinal'].sum().iplot(kind='area')"
   ]
  },
  {
   "cell_type": "code",
   "execution_count": 17,
   "metadata": {},
   "outputs": [
    {
     "data": {
      "application/vnd.plotly.v1+json": {
       "config": {
        "linkText": "Export to plot.ly",
        "plotlyServerURL": "https://plot.ly",
        "showLink": true
       },
       "data": [
        {
         "fill": "tozeroy",
         "fillcolor": "rgba(255, 153, 51, 0.3)",
         "line": {
          "color": "rgba(255, 153, 51, 1.0)",
          "dash": "solid",
          "shape": "linear",
          "width": 1.3
         },
         "mode": "lines",
         "name": "DeathsFinal",
         "text": "",
         "type": "scatter",
         "uid": "8d7029f5-3d13-41ee-ad90-fe72d2437f2e",
         "x": [
          "Albania",
          "Australia",
          "Austria",
          "Belgium",
          "Brazil",
          "Bulgaria",
          "Burma",
          "Canada",
          "China",
          "Cuba",
          "Czechoslovakia",
          "Denmark",
          "Dutch East Indies",
          "Estonia",
          "Ethiopia",
          "Finland",
          "France",
          "French Indochina",
          "Germany",
          "Greece",
          "Hungary",
          "Iceland",
          "India",
          "Iran",
          "Iraq",
          "Ireland",
          "Italy",
          "Japan",
          "Korea",
          "Latvia",
          "Lithuania",
          "Luxembourg",
          "Malaya",
          "Malta",
          "Mexico",
          "Mongolia",
          "Nauru (Australian)",
          "Netherlands",
          "New Zealand",
          "Newfoundland",
          "Norway",
          "Papua and New Guinea (Australian)",
          "Philippines",
          "Poland",
          "Portuguese Timor",
          "Romania",
          "Ruanda-Urundi (Belgian)",
          "Singapore",
          "Slovakia",
          "South Africa",
          "South Pacific Mandate (Japanese)",
          "Soviet Union",
          "Sweden",
          "Switzerland",
          "Thailand",
          "Turkey",
          "United Kingdom",
          "United States",
          "Yugoslavia"
         ],
         "y": [
          30000,
          40500,
          120000,
          88000,
          2000,
          25000,
          272000,
          45400,
          3500789,
          100,
          325000,
          3200,
          3500000,
          50000,
          100000,
          97000,
          552600,
          1250000,
          7628176,
          327550,
          804500,
          200,
          2087000,
          200,
          500,
          200,
          444290,
          2870149.5,
          430500,
          230000,
          350000,
          2000,
          100000,
          1500,
          100,
          300,
          500,
          301000,
          11900,
          100,
          9500,
          15000,
          807000,
          2898500,
          55000,
          616400,
          150000,
          50000,
          65500,
          11900,
          57000,
          4792982,
          600,
          100,
          7600,
          200,
          450901,
          288001,
          1027000
         ]
        }
       ],
       "layout": {
        "legend": {
         "bgcolor": "#151516",
         "font": {
          "color": "#D9D9D9"
         }
        },
        "paper_bgcolor": "#151516",
        "plot_bgcolor": "#151516",
        "title": {
         "font": {
          "color": "#D9D9D9"
         }
        },
        "xaxis": {
         "gridcolor": "#434343",
         "showgrid": true,
         "tickfont": {
          "color": "#C2C2C2"
         },
         "title": {
          "font": {
           "color": "#D9D9D9"
          },
          "text": ""
         },
         "zerolinecolor": "#666570"
        },
        "yaxis": {
         "gridcolor": "#434343",
         "showgrid": true,
         "tickfont": {
          "color": "#C2C2C2"
         },
         "title": {
          "font": {
           "color": "#D9D9D9"
          },
          "text": ""
         },
         "zerolinecolor": "#666570"
        }
       }
      },
      "text/html": [
       "<div>\n",
       "        \n",
       "        \n",
       "            <div id=\"addaecf0-e0fe-4727-9963-6fee54fe4c63\" class=\"plotly-graph-div\" style=\"height:525px; width:100%;\"></div>\n",
       "            <script type=\"text/javascript\">\n",
       "                require([\"plotly\"], function(Plotly) {\n",
       "                    window.PLOTLYENV=window.PLOTLYENV || {};\n",
       "                    window.PLOTLYENV.BASE_URL='https://plot.ly';\n",
       "                    \n",
       "                if (document.getElementById(\"addaecf0-e0fe-4727-9963-6fee54fe4c63\")) {\n",
       "                    Plotly.newPlot(\n",
       "                        'addaecf0-e0fe-4727-9963-6fee54fe4c63',\n",
       "                        [{\"fill\": \"tozeroy\", \"fillcolor\": \"rgba(255, 153, 51, 0.3)\", \"line\": {\"color\": \"rgba(255, 153, 51, 1.0)\", \"dash\": \"solid\", \"shape\": \"linear\", \"width\": 1.3}, \"mode\": \"lines\", \"name\": \"DeathsFinal\", \"text\": \"\", \"type\": \"scatter\", \"uid\": \"8d7029f5-3d13-41ee-ad90-fe72d2437f2e\", \"x\": [\"Albania\", \"Australia\", \"Austria\", \"Belgium\", \"Brazil\", \"Bulgaria\", \"Burma\", \"Canada\", \"China\", \"Cuba\", \"Czechoslovakia\", \"Denmark\", \"Dutch East Indies\", \"Estonia\", \"Ethiopia\", \"Finland\", \"France\", \"French Indochina\", \"Germany\", \"Greece\", \"Hungary\", \"Iceland\", \"India\", \"Iran\", \"Iraq\", \"Ireland\", \"Italy\", \"Japan\", \"Korea\", \"Latvia\", \"Lithuania\", \"Luxembourg\", \"Malaya\", \"Malta\", \"Mexico\", \"Mongolia\", \"Nauru (Australian)\", \"Netherlands\", \"New Zealand\", \"Newfoundland\", \"Norway\", \"Papua and New Guinea (Australian)\", \"Philippines\", \"Poland\", \"Portuguese Timor\", \"Romania\", \"Ruanda-Urundi (Belgian)\", \"Singapore\", \"Slovakia\", \"South Africa\", \"South Pacific Mandate (Japanese)\", \"Soviet Union\", \"Sweden\", \"Switzerland\", \"Thailand\", \"Turkey\", \"United Kingdom\", \"United States\", \"Yugoslavia\"], \"y\": [30000.0, 40500.0, 120000.0, 88000.0, 2000.0, 25000.0, 272000.0, 45400.0, 3500789.0, 100.0, 325000.0, 3200.0, 3500000.0, 50000.0, 100000.0, 97000.0, 552600.0, 1250000.0, 7628176.0, 327550.0, 804500.0, 200.0, 2087000.0, 200.0, 500.0, 200.0, 444290.0, 2870149.5, 430500.0, 230000.0, 350000.0, 2000.0, 100000.0, 1500.0, 100.0, 300.0, 500.0, 301000.0, 11900.0, 100.0, 9500.0, 15000.0, 807000.0, 2898500.0, 55000.0, 616400.0, 150000.0, 50000.0, 65500.0, 11900.0, 57000.0, 4792982.0, 600.0, 100.0, 7600.0, 200.0, 450901.0, 288001.0, 1027000.0]}],\n",
       "                        {\"legend\": {\"bgcolor\": \"#151516\", \"font\": {\"color\": \"#D9D9D9\"}}, \"paper_bgcolor\": \"#151516\", \"plot_bgcolor\": \"#151516\", \"title\": {\"font\": {\"color\": \"#D9D9D9\"}}, \"xaxis\": {\"gridcolor\": \"#434343\", \"showgrid\": true, \"tickfont\": {\"color\": \"#C2C2C2\"}, \"title\": {\"font\": {\"color\": \"#D9D9D9\"}, \"text\": \"\"}, \"zerolinecolor\": \"#666570\"}, \"yaxis\": {\"gridcolor\": \"#434343\", \"showgrid\": true, \"tickfont\": {\"color\": \"#C2C2C2\"}, \"title\": {\"font\": {\"color\": \"#D9D9D9\"}, \"text\": \"\"}, \"zerolinecolor\": \"#666570\"}},\n",
       "                        {\"showLink\": true, \"linkText\": \"Export to plot.ly\", \"plotlyServerURL\": \"https://plot.ly\", \"responsive\": true}\n",
       "                    ).then(function(){\n",
       "                            \n",
       "var gd = document.getElementById('addaecf0-e0fe-4727-9963-6fee54fe4c63');\n",
       "var x = new MutationObserver(function (mutations, observer) {{\n",
       "        var display = window.getComputedStyle(gd).display;\n",
       "        if (!display || display === 'none') {{\n",
       "            console.log([gd, 'removed!']);\n",
       "            Plotly.purge(gd);\n",
       "            observer.disconnect();\n",
       "        }}\n",
       "}});\n",
       "\n",
       "// Listen for the removal of the full notebook cells\n",
       "var notebookContainer = gd.closest('#notebook-container');\n",
       "if (notebookContainer) {{\n",
       "    x.observe(notebookContainer, {childList: true});\n",
       "}}\n",
       "\n",
       "// Listen for the clearing of the current output cell\n",
       "var outputEl = gd.closest('.output');\n",
       "if (outputEl) {{\n",
       "    x.observe(outputEl, {childList: true});\n",
       "}}\n",
       "\n",
       "                        })\n",
       "                };\n",
       "                });\n",
       "            </script>\n",
       "        </div>"
      ]
     },
     "metadata": {},
     "output_type": "display_data"
    }
   ],
   "source": [
    "nations['DeathsFinal'].sum().iplot(fill='true')"
   ]
  },
  {
   "cell_type": "code",
   "execution_count": 26,
   "metadata": {},
   "outputs": [
    {
     "data": {
      "application/vnd.plotly.v1+json": {
       "config": {
        "linkText": "Export to plot.ly",
        "plotlyServerURL": "https://plot.ly",
        "showLink": true
       },
       "data": [
        {
         "line": {
          "color": "rgba(255, 153, 51, 1.0)",
          "dash": "solid",
          "shape": "linear",
          "width": 1.3
         },
         "marker": {
          "size": 12,
          "symbol": "circle"
         },
         "mode": "markers",
         "name": "DeathsFinal",
         "text": "",
         "type": "scatter",
         "uid": "5a6068c6-e3c2-400e-8ad8-1d5a9c1acadc",
         "x": [
          "Albania",
          "Australia",
          "Austria",
          "Belgium",
          "Brazil",
          "Bulgaria",
          "Burma",
          "Canada",
          "China",
          "Cuba",
          "Czechoslovakia",
          "Denmark",
          "Dutch East Indies",
          "Estonia",
          "Ethiopia",
          "Finland",
          "France",
          "French Indochina",
          "Germany",
          "Greece",
          "Hungary",
          "Iceland",
          "India",
          "Iran",
          "Iraq",
          "Ireland",
          "Italy",
          "Japan",
          "Korea",
          "Latvia",
          "Lithuania",
          "Luxembourg",
          "Malaya",
          "Malta",
          "Mexico",
          "Mongolia",
          "Nauru (Australian)",
          "Netherlands",
          "New Zealand",
          "Newfoundland",
          "Norway",
          "Papua and New Guinea (Australian)",
          "Philippines",
          "Poland",
          "Portuguese Timor",
          "Romania",
          "Ruanda-Urundi (Belgian)",
          "Singapore",
          "Slovakia",
          "South Africa",
          "South Pacific Mandate (Japanese)",
          "Soviet Union",
          "Sweden",
          "Switzerland",
          "Thailand",
          "Turkey",
          "United Kingdom",
          "United States",
          "Yugoslavia"
         ],
         "y": [
          30000,
          40500,
          120000,
          88000,
          2000,
          25000,
          272000,
          45400,
          3500789,
          100,
          325000,
          3200,
          3500000,
          50000,
          100000,
          97000,
          552600,
          1250000,
          7628176,
          327550,
          804500,
          200,
          2087000,
          200,
          500,
          200,
          444290,
          2870149.5,
          430500,
          230000,
          350000,
          2000,
          100000,
          1500,
          100,
          300,
          500,
          301000,
          11900,
          100,
          9500,
          15000,
          807000,
          2898500,
          55000,
          616400,
          150000,
          50000,
          65500,
          11900,
          57000,
          4792982,
          600,
          100,
          7600,
          200,
          450901,
          288001,
          1027000
         ]
        }
       ],
       "layout": {
        "legend": {
         "bgcolor": "#151516",
         "font": {
          "color": "#D9D9D9"
         }
        },
        "paper_bgcolor": "#151516",
        "plot_bgcolor": "#151516",
        "title": {
         "font": {
          "color": "#D9D9D9"
         }
        },
        "xaxis": {
         "gridcolor": "#434343",
         "showgrid": true,
         "tickfont": {
          "color": "#C2C2C2"
         },
         "title": {
          "font": {
           "color": "#D9D9D9"
          },
          "text": ""
         },
         "zerolinecolor": "#666570"
        },
        "yaxis": {
         "gridcolor": "#434343",
         "showgrid": true,
         "tickfont": {
          "color": "#C2C2C2"
         },
         "title": {
          "font": {
           "color": "#D9D9D9"
          },
          "text": ""
         },
         "zerolinecolor": "#666570"
        }
       }
      },
      "text/html": [
       "<div>\n",
       "        \n",
       "        \n",
       "            <div id=\"5ef7e91e-65a9-4186-adb8-eb8a43eff9eb\" class=\"plotly-graph-div\" style=\"height:525px; width:100%;\"></div>\n",
       "            <script type=\"text/javascript\">\n",
       "                require([\"plotly\"], function(Plotly) {\n",
       "                    window.PLOTLYENV=window.PLOTLYENV || {};\n",
       "                    window.PLOTLYENV.BASE_URL='https://plot.ly';\n",
       "                    \n",
       "                if (document.getElementById(\"5ef7e91e-65a9-4186-adb8-eb8a43eff9eb\")) {\n",
       "                    Plotly.newPlot(\n",
       "                        '5ef7e91e-65a9-4186-adb8-eb8a43eff9eb',\n",
       "                        [{\"line\": {\"color\": \"rgba(255, 153, 51, 1.0)\", \"dash\": \"solid\", \"shape\": \"linear\", \"width\": 1.3}, \"marker\": {\"size\": 12, \"symbol\": \"circle\"}, \"mode\": \"markers\", \"name\": \"DeathsFinal\", \"text\": \"\", \"type\": \"scatter\", \"uid\": \"5a6068c6-e3c2-400e-8ad8-1d5a9c1acadc\", \"x\": [\"Albania\", \"Australia\", \"Austria\", \"Belgium\", \"Brazil\", \"Bulgaria\", \"Burma\", \"Canada\", \"China\", \"Cuba\", \"Czechoslovakia\", \"Denmark\", \"Dutch East Indies\", \"Estonia\", \"Ethiopia\", \"Finland\", \"France\", \"French Indochina\", \"Germany\", \"Greece\", \"Hungary\", \"Iceland\", \"India\", \"Iran\", \"Iraq\", \"Ireland\", \"Italy\", \"Japan\", \"Korea\", \"Latvia\", \"Lithuania\", \"Luxembourg\", \"Malaya\", \"Malta\", \"Mexico\", \"Mongolia\", \"Nauru (Australian)\", \"Netherlands\", \"New Zealand\", \"Newfoundland\", \"Norway\", \"Papua and New Guinea (Australian)\", \"Philippines\", \"Poland\", \"Portuguese Timor\", \"Romania\", \"Ruanda-Urundi (Belgian)\", \"Singapore\", \"Slovakia\", \"South Africa\", \"South Pacific Mandate (Japanese)\", \"Soviet Union\", \"Sweden\", \"Switzerland\", \"Thailand\", \"Turkey\", \"United Kingdom\", \"United States\", \"Yugoslavia\"], \"y\": [30000.0, 40500.0, 120000.0, 88000.0, 2000.0, 25000.0, 272000.0, 45400.0, 3500789.0, 100.0, 325000.0, 3200.0, 3500000.0, 50000.0, 100000.0, 97000.0, 552600.0, 1250000.0, 7628176.0, 327550.0, 804500.0, 200.0, 2087000.0, 200.0, 500.0, 200.0, 444290.0, 2870149.5, 430500.0, 230000.0, 350000.0, 2000.0, 100000.0, 1500.0, 100.0, 300.0, 500.0, 301000.0, 11900.0, 100.0, 9500.0, 15000.0, 807000.0, 2898500.0, 55000.0, 616400.0, 150000.0, 50000.0, 65500.0, 11900.0, 57000.0, 4792982.0, 600.0, 100.0, 7600.0, 200.0, 450901.0, 288001.0, 1027000.0]}],\n",
       "                        {\"legend\": {\"bgcolor\": \"#151516\", \"font\": {\"color\": \"#D9D9D9\"}}, \"paper_bgcolor\": \"#151516\", \"plot_bgcolor\": \"#151516\", \"title\": {\"font\": {\"color\": \"#D9D9D9\"}}, \"xaxis\": {\"gridcolor\": \"#434343\", \"showgrid\": true, \"tickfont\": {\"color\": \"#C2C2C2\"}, \"title\": {\"font\": {\"color\": \"#D9D9D9\"}, \"text\": \"\"}, \"zerolinecolor\": \"#666570\"}, \"yaxis\": {\"gridcolor\": \"#434343\", \"showgrid\": true, \"tickfont\": {\"color\": \"#C2C2C2\"}, \"title\": {\"font\": {\"color\": \"#D9D9D9\"}, \"text\": \"\"}, \"zerolinecolor\": \"#666570\"}},\n",
       "                        {\"showLink\": true, \"linkText\": \"Export to plot.ly\", \"plotlyServerURL\": \"https://plot.ly\", \"responsive\": true}\n",
       "                    ).then(function(){\n",
       "                            \n",
       "var gd = document.getElementById('5ef7e91e-65a9-4186-adb8-eb8a43eff9eb');\n",
       "var x = new MutationObserver(function (mutations, observer) {{\n",
       "        var display = window.getComputedStyle(gd).display;\n",
       "        if (!display || display === 'none') {{\n",
       "            console.log([gd, 'removed!']);\n",
       "            Plotly.purge(gd);\n",
       "            observer.disconnect();\n",
       "        }}\n",
       "}});\n",
       "\n",
       "// Listen for the removal of the full notebook cells\n",
       "var notebookContainer = gd.closest('#notebook-container');\n",
       "if (notebookContainer) {{\n",
       "    x.observe(notebookContainer, {childList: true});\n",
       "}}\n",
       "\n",
       "// Listen for the clearing of the current output cell\n",
       "var outputEl = gd.closest('.output');\n",
       "if (outputEl) {{\n",
       "    x.observe(outputEl, {childList: true});\n",
       "}}\n",
       "\n",
       "                        })\n",
       "                };\n",
       "                });\n",
       "            </script>\n",
       "        </div>"
      ]
     },
     "metadata": {},
     "output_type": "display_data"
    }
   ],
   "source": [
    "nations['DeathsFinal'].sum().iplot(kind='scatter',mode='markers')"
   ]
  },
  {
   "cell_type": "code",
   "execution_count": 20,
   "metadata": {},
   "outputs": [
    {
     "data": {
      "text/html": [
       "<div>\n",
       "<style scoped>\n",
       "    .dataframe tbody tr th:only-of-type {\n",
       "        vertical-align: middle;\n",
       "    }\n",
       "\n",
       "    .dataframe tbody tr th {\n",
       "        vertical-align: top;\n",
       "    }\n",
       "\n",
       "    .dataframe thead th {\n",
       "        text-align: right;\n",
       "    }\n",
       "</style>\n",
       "<table border=\"1\" class=\"dataframe\">\n",
       "  <thead>\n",
       "    <tr style=\"text-align: right;\">\n",
       "      <th></th>\n",
       "      <th>Nationality</th>\n",
       "      <th>GeoCode</th>\n",
       "      <th>Deaths</th>\n",
       "      <th>Deaths as % of population</th>\n",
       "    </tr>\n",
       "  </thead>\n",
       "  <tbody>\n",
       "    <tr>\n",
       "      <td>0</td>\n",
       "      <td>Australia</td>\n",
       "      <td>AUS</td>\n",
       "      <td>62149</td>\n",
       "      <td>1.24%</td>\n",
       "    </tr>\n",
       "    <tr>\n",
       "      <td>1</td>\n",
       "      <td>Canada</td>\n",
       "      <td>CAN</td>\n",
       "      <td>66996</td>\n",
       "      <td>0.93%</td>\n",
       "    </tr>\n",
       "    <tr>\n",
       "      <td>2</td>\n",
       "      <td>India</td>\n",
       "      <td>IND</td>\n",
       "      <td>73905</td>\n",
       "      <td>0.02%</td>\n",
       "    </tr>\n",
       "    <tr>\n",
       "      <td>3</td>\n",
       "      <td>New Zeeland</td>\n",
       "      <td>NZL</td>\n",
       "      <td>18060</td>\n",
       "      <td>1.64%</td>\n",
       "    </tr>\n",
       "    <tr>\n",
       "      <td>4</td>\n",
       "      <td>South Africa</td>\n",
       "      <td>ZAF</td>\n",
       "      <td>9726</td>\n",
       "      <td>0.16%</td>\n",
       "    </tr>\n",
       "    <tr>\n",
       "      <td>5</td>\n",
       "      <td>United Kingdom</td>\n",
       "      <td>GBR</td>\n",
       "      <td>1011687</td>\n",
       "      <td>2.23%</td>\n",
       "    </tr>\n",
       "    <tr>\n",
       "      <td>6</td>\n",
       "      <td>Belgium</td>\n",
       "      <td>BEL</td>\n",
       "      <td>144337</td>\n",
       "      <td>1.95%</td>\n",
       "    </tr>\n",
       "    <tr>\n",
       "      <td>7</td>\n",
       "      <td>France</td>\n",
       "      <td>FRA</td>\n",
       "      <td>1737800</td>\n",
       "      <td>4.39%</td>\n",
       "    </tr>\n",
       "    <tr>\n",
       "      <td>8</td>\n",
       "      <td>Greece</td>\n",
       "      <td>GRC</td>\n",
       "      <td>176000</td>\n",
       "      <td>3.67%</td>\n",
       "    </tr>\n",
       "    <tr>\n",
       "      <td>9</td>\n",
       "      <td>Italy</td>\n",
       "      <td>ITA</td>\n",
       "      <td>1243400</td>\n",
       "      <td>3.49%</td>\n",
       "    </tr>\n",
       "    <tr>\n",
       "      <td>10</td>\n",
       "      <td>Japan</td>\n",
       "      <td>JPN</td>\n",
       "      <td>4661</td>\n",
       "      <td>0.01%</td>\n",
       "    </tr>\n",
       "    <tr>\n",
       "      <td>11</td>\n",
       "      <td>Montenegro</td>\n",
       "      <td>MNE</td>\n",
       "      <td>13325</td>\n",
       "      <td>2.67%</td>\n",
       "    </tr>\n",
       "    <tr>\n",
       "      <td>12</td>\n",
       "      <td>Portugal</td>\n",
       "      <td>PRT</td>\n",
       "      <td>89235</td>\n",
       "      <td>1.49%</td>\n",
       "    </tr>\n",
       "    <tr>\n",
       "      <td>13</td>\n",
       "      <td>Romania</td>\n",
       "      <td>ROU</td>\n",
       "      <td>665706</td>\n",
       "      <td>8.88%</td>\n",
       "    </tr>\n",
       "    <tr>\n",
       "      <td>14</td>\n",
       "      <td>Russia</td>\n",
       "      <td>RUS</td>\n",
       "      <td>3394369</td>\n",
       "      <td>1.94%</td>\n",
       "    </tr>\n",
       "    <tr>\n",
       "      <td>15</td>\n",
       "      <td>Serbia</td>\n",
       "      <td>SRB</td>\n",
       "      <td>1250000</td>\n",
       "      <td>27.78%</td>\n",
       "    </tr>\n",
       "    <tr>\n",
       "      <td>16</td>\n",
       "      <td>United States</td>\n",
       "      <td>USA</td>\n",
       "      <td>117465</td>\n",
       "      <td>0.13%</td>\n",
       "    </tr>\n",
       "    <tr>\n",
       "      <td>17</td>\n",
       "      <td>Hungary</td>\n",
       "      <td>HUN</td>\n",
       "      <td>1040600</td>\n",
       "      <td>2.03%</td>\n",
       "    </tr>\n",
       "    <tr>\n",
       "      <td>18</td>\n",
       "      <td>Austria</td>\n",
       "      <td>AUT</td>\n",
       "      <td>1040600</td>\n",
       "      <td>2.03%</td>\n",
       "    </tr>\n",
       "    <tr>\n",
       "      <td>19</td>\n",
       "      <td>Bulgaria</td>\n",
       "      <td>BGR</td>\n",
       "      <td>187500</td>\n",
       "      <td>3.41%</td>\n",
       "    </tr>\n",
       "    <tr>\n",
       "      <td>20</td>\n",
       "      <td>Germany</td>\n",
       "      <td>DEU</td>\n",
       "      <td>2800720</td>\n",
       "      <td>4.32%</td>\n",
       "    </tr>\n",
       "    <tr>\n",
       "      <td>21</td>\n",
       "      <td>Turkey</td>\n",
       "      <td>TUR</td>\n",
       "      <td>3271844</td>\n",
       "      <td>15.36%</td>\n",
       "    </tr>\n",
       "    <tr>\n",
       "      <td>22</td>\n",
       "      <td>Denmark</td>\n",
       "      <td>DNK</td>\n",
       "      <td>700</td>\n",
       "      <td>0.03%</td>\n",
       "    </tr>\n",
       "    <tr>\n",
       "      <td>23</td>\n",
       "      <td>Norway</td>\n",
       "      <td>NOR</td>\n",
       "      <td>1180</td>\n",
       "      <td>0.08%</td>\n",
       "    </tr>\n",
       "    <tr>\n",
       "      <td>24</td>\n",
       "      <td>Sweden</td>\n",
       "      <td>SWE</td>\n",
       "      <td>800</td>\n",
       "      <td>0.02%</td>\n",
       "    </tr>\n",
       "  </tbody>\n",
       "</table>\n",
       "</div>"
      ],
      "text/plain": [
       "       Nationality GeoCode   Deaths Deaths as % of population\n",
       "0        Australia     AUS    62149                     1.24%\n",
       "1           Canada     CAN    66996                     0.93%\n",
       "2            India     IND    73905                     0.02%\n",
       "3      New Zeeland     NZL    18060                     1.64%\n",
       "4     South Africa     ZAF     9726                     0.16%\n",
       "5   United Kingdom     GBR  1011687                     2.23%\n",
       "6          Belgium     BEL   144337                     1.95%\n",
       "7           France     FRA  1737800                     4.39%\n",
       "8           Greece     GRC   176000                     3.67%\n",
       "9            Italy     ITA  1243400                     3.49%\n",
       "10           Japan     JPN     4661                     0.01%\n",
       "11      Montenegro     MNE    13325                     2.67%\n",
       "12        Portugal     PRT    89235                     1.49%\n",
       "13         Romania     ROU   665706                     8.88%\n",
       "14          Russia     RUS  3394369                     1.94%\n",
       "15          Serbia     SRB  1250000                    27.78%\n",
       "16   United States     USA   117465                     0.13%\n",
       "17         Hungary     HUN  1040600                     2.03%\n",
       "18         Austria     AUT  1040600                     2.03%\n",
       "19        Bulgaria     BGR   187500                     3.41%\n",
       "20         Germany     DEU  2800720                     4.32%\n",
       "21          Turkey     TUR  3271844                    15.36%\n",
       "22         Denmark     DNK      700                     0.03%\n",
       "23          Norway     NOR     1180                     0.08%\n",
       "24          Sweden     SWE      800                     0.02%"
      ]
     },
     "execution_count": 20,
     "metadata": {},
     "output_type": "execute_result"
    }
   ],
   "source": [
    "ww1"
   ]
  },
  {
   "cell_type": "markdown",
   "metadata": {},
   "source": [
    "ww1N=ww1.groupby('Nationality')"
   ]
  },
  {
   "cell_type": "code",
   "execution_count": 32,
   "metadata": {},
   "outputs": [],
   "source": [
    "country=ww1.groupby('Nationality')\n"
   ]
  },
  {
   "cell_type": "code",
   "execution_count": 33,
   "metadata": {},
   "outputs": [
    {
     "data": {
      "text/plain": [
       "<pandas.core.groupby.generic.DataFrameGroupBy object at 0x14B9A890>"
      ]
     },
     "execution_count": 33,
     "metadata": {},
     "output_type": "execute_result"
    }
   ],
   "source": [
    "country"
   ]
  },
  {
   "cell_type": "code",
   "execution_count": 35,
   "metadata": {},
   "outputs": [
    {
     "data": {
      "application/vnd.plotly.v1+json": {
       "config": {
        "linkText": "Export to plot.ly",
        "plotlyServerURL": "https://plot.ly",
        "showLink": true
       },
       "data": [
        {
         "marker": {
          "color": "rgba(255, 153, 51, 0.6)",
          "line": {
           "color": "rgba(255, 153, 51, 1.0)",
           "width": 1
          }
         },
         "name": "Deaths",
         "orientation": "v",
         "text": "",
         "type": "bar",
         "uid": "d0e7b8ce-e78f-403c-9d2b-735ab17fa619",
         "x": [
          "Australia",
          "Austria",
          "Belgium",
          "Bulgaria",
          "Canada",
          "Denmark",
          "France",
          "Germany",
          "Greece",
          "Hungary",
          "India",
          "Italy",
          "Japan",
          "Montenegro",
          "New Zeeland",
          "Norway",
          "Portugal",
          "Romania",
          "Russia",
          "Serbia",
          "South Africa",
          "Sweden",
          "Turkey",
          "United Kingdom",
          "United States"
         ],
         "y": [
          62149,
          1040600,
          144337,
          187500,
          66996,
          700,
          1737800,
          2800720,
          176000,
          1040600,
          73905,
          1243400,
          4661,
          13325,
          18060,
          1180,
          89235,
          665706,
          3394369,
          1250000,
          9726,
          800,
          3271844,
          1011687,
          117465
         ]
        }
       ],
       "layout": {
        "legend": {
         "bgcolor": "#151516",
         "font": {
          "color": "#D9D9D9"
         }
        },
        "paper_bgcolor": "#151516",
        "plot_bgcolor": "#151516",
        "title": {
         "font": {
          "color": "#D9D9D9"
         }
        },
        "xaxis": {
         "gridcolor": "#434343",
         "showgrid": true,
         "tickfont": {
          "color": "#C2C2C2"
         },
         "title": {
          "font": {
           "color": "#D9D9D9"
          },
          "text": ""
         },
         "zerolinecolor": "#666570"
        },
        "yaxis": {
         "gridcolor": "#434343",
         "showgrid": true,
         "tickfont": {
          "color": "#C2C2C2"
         },
         "title": {
          "font": {
           "color": "#D9D9D9"
          },
          "text": ""
         },
         "zerolinecolor": "#666570"
        }
       }
      },
      "text/html": [
       "<div>\n",
       "        \n",
       "        \n",
       "            <div id=\"630fdfa2-5ac4-4a27-9120-7e605a692f91\" class=\"plotly-graph-div\" style=\"height:525px; width:100%;\"></div>\n",
       "            <script type=\"text/javascript\">\n",
       "                require([\"plotly\"], function(Plotly) {\n",
       "                    window.PLOTLYENV=window.PLOTLYENV || {};\n",
       "                    window.PLOTLYENV.BASE_URL='https://plot.ly';\n",
       "                    \n",
       "                if (document.getElementById(\"630fdfa2-5ac4-4a27-9120-7e605a692f91\")) {\n",
       "                    Plotly.newPlot(\n",
       "                        '630fdfa2-5ac4-4a27-9120-7e605a692f91',\n",
       "                        [{\"marker\": {\"color\": \"rgba(255, 153, 51, 0.6)\", \"line\": {\"color\": \"rgba(255, 153, 51, 1.0)\", \"width\": 1}}, \"name\": \"Deaths\", \"orientation\": \"v\", \"text\": \"\", \"type\": \"bar\", \"uid\": \"d0e7b8ce-e78f-403c-9d2b-735ab17fa619\", \"x\": [\"Australia\", \"Austria\", \"Belgium\", \"Bulgaria\", \"Canada\", \"Denmark\", \"France\", \"Germany\", \"Greece\", \"Hungary\", \"India\", \"Italy\", \"Japan\", \"Montenegro\", \"New Zeeland\", \"Norway\", \"Portugal\", \"Romania\", \"Russia\", \"Serbia\", \"South Africa\", \"Sweden\", \"Turkey\", \"United Kingdom\", \"United States\"], \"y\": [62149, 1040600, 144337, 187500, 66996, 700, 1737800, 2800720, 176000, 1040600, 73905, 1243400, 4661, 13325, 18060, 1180, 89235, 665706, 3394369, 1250000, 9726, 800, 3271844, 1011687, 117465]}],\n",
       "                        {\"legend\": {\"bgcolor\": \"#151516\", \"font\": {\"color\": \"#D9D9D9\"}}, \"paper_bgcolor\": \"#151516\", \"plot_bgcolor\": \"#151516\", \"title\": {\"font\": {\"color\": \"#D9D9D9\"}}, \"xaxis\": {\"gridcolor\": \"#434343\", \"showgrid\": true, \"tickfont\": {\"color\": \"#C2C2C2\"}, \"title\": {\"font\": {\"color\": \"#D9D9D9\"}, \"text\": \"\"}, \"zerolinecolor\": \"#666570\"}, \"yaxis\": {\"gridcolor\": \"#434343\", \"showgrid\": true, \"tickfont\": {\"color\": \"#C2C2C2\"}, \"title\": {\"font\": {\"color\": \"#D9D9D9\"}, \"text\": \"\"}, \"zerolinecolor\": \"#666570\"}},\n",
       "                        {\"showLink\": true, \"linkText\": \"Export to plot.ly\", \"plotlyServerURL\": \"https://plot.ly\", \"responsive\": true}\n",
       "                    ).then(function(){\n",
       "                            \n",
       "var gd = document.getElementById('630fdfa2-5ac4-4a27-9120-7e605a692f91');\n",
       "var x = new MutationObserver(function (mutations, observer) {{\n",
       "        var display = window.getComputedStyle(gd).display;\n",
       "        if (!display || display === 'none') {{\n",
       "            console.log([gd, 'removed!']);\n",
       "            Plotly.purge(gd);\n",
       "            observer.disconnect();\n",
       "        }}\n",
       "}});\n",
       "\n",
       "// Listen for the removal of the full notebook cells\n",
       "var notebookContainer = gd.closest('#notebook-container');\n",
       "if (notebookContainer) {{\n",
       "    x.observe(notebookContainer, {childList: true});\n",
       "}}\n",
       "\n",
       "// Listen for the clearing of the current output cell\n",
       "var outputEl = gd.closest('.output');\n",
       "if (outputEl) {{\n",
       "    x.observe(outputEl, {childList: true});\n",
       "}}\n",
       "\n",
       "                        })\n",
       "                };\n",
       "                });\n",
       "            </script>\n",
       "        </div>"
      ]
     },
     "metadata": {},
     "output_type": "display_data"
    }
   ],
   "source": [
    "country['Deaths'].sum().iplot(kind='bar')"
   ]
  },
  {
   "cell_type": "code",
   "execution_count": 38,
   "metadata": {},
   "outputs": [
    {
     "data": {
      "application/vnd.plotly.v1+json": {
       "config": {
        "linkText": "Export to plot.ly",
        "plotlyServerURL": "https://plot.ly",
        "showLink": true
       },
       "data": [
        {
         "line": {
          "color": "rgba(255, 153, 51, 1.0)",
          "dash": "solid",
          "shape": "linear",
          "width": 1.3
         },
         "mode": "lines",
         "name": "Deaths",
         "text": "",
         "type": "scatter",
         "uid": "d80b8a49-afcb-42a8-b4fb-c409db9f75df",
         "x": [
          "Australia",
          "Austria",
          "Belgium",
          "Bulgaria",
          "Canada",
          "Denmark",
          "France",
          "Germany",
          "Greece",
          "Hungary",
          "India",
          "Italy",
          "Japan",
          "Montenegro",
          "New Zeeland",
          "Norway",
          "Portugal",
          "Romania",
          "Russia",
          "Serbia",
          "South Africa",
          "Sweden",
          "Turkey",
          "United Kingdom",
          "United States"
         ],
         "y": [
          62149,
          1040600,
          144337,
          187500,
          66996,
          700,
          1737800,
          2800720,
          176000,
          1040600,
          73905,
          1243400,
          4661,
          13325,
          18060,
          1180,
          89235,
          665706,
          3394369,
          1250000,
          9726,
          800,
          3271844,
          1011687,
          117465
         ]
        }
       ],
       "layout": {
        "legend": {
         "bgcolor": "#151516",
         "font": {
          "color": "#D9D9D9"
         }
        },
        "paper_bgcolor": "#151516",
        "plot_bgcolor": "#151516",
        "title": {
         "font": {
          "color": "#D9D9D9"
         }
        },
        "xaxis": {
         "gridcolor": "#434343",
         "showgrid": true,
         "tickfont": {
          "color": "#C2C2C2"
         },
         "title": {
          "font": {
           "color": "#D9D9D9"
          },
          "text": ""
         },
         "zerolinecolor": "#666570"
        },
        "yaxis": {
         "gridcolor": "#434343",
         "showgrid": true,
         "tickfont": {
          "color": "#C2C2C2"
         },
         "title": {
          "font": {
           "color": "#D9D9D9"
          },
          "text": ""
         },
         "zerolinecolor": "#666570"
        }
       }
      },
      "text/html": [
       "<div>\n",
       "        \n",
       "        \n",
       "            <div id=\"39d1c16f-69c5-4c1d-97ff-be004f56e5fe\" class=\"plotly-graph-div\" style=\"height:525px; width:100%;\"></div>\n",
       "            <script type=\"text/javascript\">\n",
       "                require([\"plotly\"], function(Plotly) {\n",
       "                    window.PLOTLYENV=window.PLOTLYENV || {};\n",
       "                    window.PLOTLYENV.BASE_URL='https://plot.ly';\n",
       "                    \n",
       "                if (document.getElementById(\"39d1c16f-69c5-4c1d-97ff-be004f56e5fe\")) {\n",
       "                    Plotly.newPlot(\n",
       "                        '39d1c16f-69c5-4c1d-97ff-be004f56e5fe',\n",
       "                        [{\"line\": {\"color\": \"rgba(255, 153, 51, 1.0)\", \"dash\": \"solid\", \"shape\": \"linear\", \"width\": 1.3}, \"mode\": \"lines\", \"name\": \"Deaths\", \"text\": \"\", \"type\": \"scatter\", \"uid\": \"d80b8a49-afcb-42a8-b4fb-c409db9f75df\", \"x\": [\"Australia\", \"Austria\", \"Belgium\", \"Bulgaria\", \"Canada\", \"Denmark\", \"France\", \"Germany\", \"Greece\", \"Hungary\", \"India\", \"Italy\", \"Japan\", \"Montenegro\", \"New Zeeland\", \"Norway\", \"Portugal\", \"Romania\", \"Russia\", \"Serbia\", \"South Africa\", \"Sweden\", \"Turkey\", \"United Kingdom\", \"United States\"], \"y\": [62149, 1040600, 144337, 187500, 66996, 700, 1737800, 2800720, 176000, 1040600, 73905, 1243400, 4661, 13325, 18060, 1180, 89235, 665706, 3394369, 1250000, 9726, 800, 3271844, 1011687, 117465]}],\n",
       "                        {\"legend\": {\"bgcolor\": \"#151516\", \"font\": {\"color\": \"#D9D9D9\"}}, \"paper_bgcolor\": \"#151516\", \"plot_bgcolor\": \"#151516\", \"title\": {\"font\": {\"color\": \"#D9D9D9\"}}, \"xaxis\": {\"gridcolor\": \"#434343\", \"showgrid\": true, \"tickfont\": {\"color\": \"#C2C2C2\"}, \"title\": {\"font\": {\"color\": \"#D9D9D9\"}, \"text\": \"\"}, \"zerolinecolor\": \"#666570\"}, \"yaxis\": {\"gridcolor\": \"#434343\", \"showgrid\": true, \"tickfont\": {\"color\": \"#C2C2C2\"}, \"title\": {\"font\": {\"color\": \"#D9D9D9\"}, \"text\": \"\"}, \"zerolinecolor\": \"#666570\"}},\n",
       "                        {\"showLink\": true, \"linkText\": \"Export to plot.ly\", \"plotlyServerURL\": \"https://plot.ly\", \"responsive\": true}\n",
       "                    ).then(function(){\n",
       "                            \n",
       "var gd = document.getElementById('39d1c16f-69c5-4c1d-97ff-be004f56e5fe');\n",
       "var x = new MutationObserver(function (mutations, observer) {{\n",
       "        var display = window.getComputedStyle(gd).display;\n",
       "        if (!display || display === 'none') {{\n",
       "            console.log([gd, 'removed!']);\n",
       "            Plotly.purge(gd);\n",
       "            observer.disconnect();\n",
       "        }}\n",
       "}});\n",
       "\n",
       "// Listen for the removal of the full notebook cells\n",
       "var notebookContainer = gd.closest('#notebook-container');\n",
       "if (notebookContainer) {{\n",
       "    x.observe(notebookContainer, {childList: true});\n",
       "}}\n",
       "\n",
       "// Listen for the clearing of the current output cell\n",
       "var outputEl = gd.closest('.output');\n",
       "if (outputEl) {{\n",
       "    x.observe(outputEl, {childList: true});\n",
       "}}\n",
       "\n",
       "                        })\n",
       "                };\n",
       "                });\n",
       "            </script>\n",
       "        </div>"
      ]
     },
     "metadata": {},
     "output_type": "display_data"
    }
   ],
   "source": [
    "country['Deaths'].sum().iplot(kind='scatter')"
   ]
  },
  {
   "cell_type": "code",
   "execution_count": 43,
   "metadata": {},
   "outputs": [
    {
     "data": {
      "application/vnd.plotly.v1+json": {
       "config": {
        "linkText": "Export to plot.ly",
        "plotlyServerURL": "https://plot.ly",
        "showLink": true
       },
       "data": [
        {
         "histfunc": "count",
         "histnorm": "",
         "marker": {
          "color": "rgba(255, 153, 51, 1.0)",
          "line": {
           "color": "#D9D9D9",
           "width": 1.3
          }
         },
         "name": "Deaths",
         "opacity": 0.8,
         "orientation": "v",
         "type": "histogram",
         "uid": "fe2dfb63-1640-4622-9818-cc58bcc986e4",
         "x": [
          62149,
          1040600,
          144337,
          187500,
          66996,
          700,
          1737800,
          2800720,
          176000,
          1040600,
          73905,
          1243400,
          4661,
          13325,
          18060,
          1180,
          89235,
          665706,
          3394369,
          1250000,
          9726,
          800,
          3271844,
          1011687,
          117465
         ]
        }
       ],
       "layout": {
        "barmode": "overlay",
        "legend": {
         "bgcolor": "#151516",
         "font": {
          "color": "#D9D9D9"
         }
        },
        "paper_bgcolor": "#151516",
        "plot_bgcolor": "#151516",
        "title": {
         "font": {
          "color": "#D9D9D9"
         }
        },
        "xaxis": {
         "gridcolor": "#434343",
         "showgrid": true,
         "tickfont": {
          "color": "#C2C2C2"
         },
         "title": {
          "font": {
           "color": "#D9D9D9"
          },
          "text": ""
         },
         "zerolinecolor": "#666570"
        },
        "yaxis": {
         "gridcolor": "#434343",
         "showgrid": true,
         "tickfont": {
          "color": "#C2C2C2"
         },
         "title": {
          "font": {
           "color": "#D9D9D9"
          },
          "text": ""
         },
         "zerolinecolor": "#666570"
        }
       }
      },
      "text/html": [
       "<div>\n",
       "        \n",
       "        \n",
       "            <div id=\"67823b3e-8884-44be-9de7-63337eefe2c8\" class=\"plotly-graph-div\" style=\"height:525px; width:100%;\"></div>\n",
       "            <script type=\"text/javascript\">\n",
       "                require([\"plotly\"], function(Plotly) {\n",
       "                    window.PLOTLYENV=window.PLOTLYENV || {};\n",
       "                    window.PLOTLYENV.BASE_URL='https://plot.ly';\n",
       "                    \n",
       "                if (document.getElementById(\"67823b3e-8884-44be-9de7-63337eefe2c8\")) {\n",
       "                    Plotly.newPlot(\n",
       "                        '67823b3e-8884-44be-9de7-63337eefe2c8',\n",
       "                        [{\"histfunc\": \"count\", \"histnorm\": \"\", \"marker\": {\"color\": \"rgba(255, 153, 51, 1.0)\", \"line\": {\"color\": \"#D9D9D9\", \"width\": 1.3}}, \"name\": \"Deaths\", \"opacity\": 0.8, \"orientation\": \"v\", \"type\": \"histogram\", \"uid\": \"fe2dfb63-1640-4622-9818-cc58bcc986e4\", \"x\": [62149, 1040600, 144337, 187500, 66996, 700, 1737800, 2800720, 176000, 1040600, 73905, 1243400, 4661, 13325, 18060, 1180, 89235, 665706, 3394369, 1250000, 9726, 800, 3271844, 1011687, 117465]}],\n",
       "                        {\"barmode\": \"overlay\", \"legend\": {\"bgcolor\": \"#151516\", \"font\": {\"color\": \"#D9D9D9\"}}, \"paper_bgcolor\": \"#151516\", \"plot_bgcolor\": \"#151516\", \"title\": {\"font\": {\"color\": \"#D9D9D9\"}}, \"xaxis\": {\"gridcolor\": \"#434343\", \"showgrid\": true, \"tickfont\": {\"color\": \"#C2C2C2\"}, \"title\": {\"font\": {\"color\": \"#D9D9D9\"}, \"text\": \"\"}, \"zerolinecolor\": \"#666570\"}, \"yaxis\": {\"gridcolor\": \"#434343\", \"showgrid\": true, \"tickfont\": {\"color\": \"#C2C2C2\"}, \"title\": {\"font\": {\"color\": \"#D9D9D9\"}, \"text\": \"\"}, \"zerolinecolor\": \"#666570\"}},\n",
       "                        {\"showLink\": true, \"linkText\": \"Export to plot.ly\", \"plotlyServerURL\": \"https://plot.ly\", \"responsive\": true}\n",
       "                    ).then(function(){\n",
       "                            \n",
       "var gd = document.getElementById('67823b3e-8884-44be-9de7-63337eefe2c8');\n",
       "var x = new MutationObserver(function (mutations, observer) {{\n",
       "        var display = window.getComputedStyle(gd).display;\n",
       "        if (!display || display === 'none') {{\n",
       "            console.log([gd, 'removed!']);\n",
       "            Plotly.purge(gd);\n",
       "            observer.disconnect();\n",
       "        }}\n",
       "}});\n",
       "\n",
       "// Listen for the removal of the full notebook cells\n",
       "var notebookContainer = gd.closest('#notebook-container');\n",
       "if (notebookContainer) {{\n",
       "    x.observe(notebookContainer, {childList: true});\n",
       "}}\n",
       "\n",
       "// Listen for the clearing of the current output cell\n",
       "var outputEl = gd.closest('.output');\n",
       "if (outputEl) {{\n",
       "    x.observe(outputEl, {childList: true});\n",
       "}}\n",
       "\n",
       "                        })\n",
       "                };\n",
       "                });\n",
       "            </script>\n",
       "        </div>"
      ]
     },
     "metadata": {},
     "output_type": "display_data"
    }
   ],
   "source": [
    "country['Deaths'].sum().iplot(kind='histogram')"
   ]
  },
  {
   "cell_type": "code",
   "execution_count": 39,
   "metadata": {
    "scrolled": true
   },
   "outputs": [
    {
     "data": {
      "application/vnd.plotly.v1+json": {
       "config": {
        "linkText": "Export to plot.ly",
        "plotlyServerURL": "https://plot.ly",
        "showLink": true
       },
       "data": [
        {
         "fill": "tozeroy",
         "fillcolor": "rgba(255, 153, 51, 0.3)",
         "line": {
          "color": "rgba(255, 153, 51, 1.0)",
          "dash": "solid",
          "shape": "linear",
          "width": 1.3
         },
         "mode": "lines",
         "name": "Deaths",
         "text": "",
         "type": "scatter",
         "uid": "31493035-0485-47bd-b780-656aad51cb9a",
         "x": [
          "Australia",
          "Austria",
          "Belgium",
          "Bulgaria",
          "Canada",
          "Denmark",
          "France",
          "Germany",
          "Greece",
          "Hungary",
          "India",
          "Italy",
          "Japan",
          "Montenegro",
          "New Zeeland",
          "Norway",
          "Portugal",
          "Romania",
          "Russia",
          "Serbia",
          "South Africa",
          "Sweden",
          "Turkey",
          "United Kingdom",
          "United States"
         ],
         "y": [
          62149,
          1040600,
          144337,
          187500,
          66996,
          700,
          1737800,
          2800720,
          176000,
          1040600,
          73905,
          1243400,
          4661,
          13325,
          18060,
          1180,
          89235,
          665706,
          3394369,
          1250000,
          9726,
          800,
          3271844,
          1011687,
          117465
         ]
        }
       ],
       "layout": {
        "legend": {
         "bgcolor": "#151516",
         "font": {
          "color": "#D9D9D9"
         }
        },
        "paper_bgcolor": "#151516",
        "plot_bgcolor": "#151516",
        "title": {
         "font": {
          "color": "#D9D9D9"
         }
        },
        "xaxis": {
         "gridcolor": "#434343",
         "showgrid": true,
         "tickfont": {
          "color": "#C2C2C2"
         },
         "title": {
          "font": {
           "color": "#D9D9D9"
          },
          "text": ""
         },
         "zerolinecolor": "#666570"
        },
        "yaxis": {
         "gridcolor": "#434343",
         "showgrid": true,
         "tickfont": {
          "color": "#C2C2C2"
         },
         "title": {
          "font": {
           "color": "#D9D9D9"
          },
          "text": ""
         },
         "zerolinecolor": "#666570"
        }
       }
      },
      "text/html": [
       "<div>\n",
       "        \n",
       "        \n",
       "            <div id=\"da217210-4fc3-435f-b9ef-bfdbb5117b0c\" class=\"plotly-graph-div\" style=\"height:525px; width:100%;\"></div>\n",
       "            <script type=\"text/javascript\">\n",
       "                require([\"plotly\"], function(Plotly) {\n",
       "                    window.PLOTLYENV=window.PLOTLYENV || {};\n",
       "                    window.PLOTLYENV.BASE_URL='https://plot.ly';\n",
       "                    \n",
       "                if (document.getElementById(\"da217210-4fc3-435f-b9ef-bfdbb5117b0c\")) {\n",
       "                    Plotly.newPlot(\n",
       "                        'da217210-4fc3-435f-b9ef-bfdbb5117b0c',\n",
       "                        [{\"fill\": \"tozeroy\", \"fillcolor\": \"rgba(255, 153, 51, 0.3)\", \"line\": {\"color\": \"rgba(255, 153, 51, 1.0)\", \"dash\": \"solid\", \"shape\": \"linear\", \"width\": 1.3}, \"mode\": \"lines\", \"name\": \"Deaths\", \"text\": \"\", \"type\": \"scatter\", \"uid\": \"31493035-0485-47bd-b780-656aad51cb9a\", \"x\": [\"Australia\", \"Austria\", \"Belgium\", \"Bulgaria\", \"Canada\", \"Denmark\", \"France\", \"Germany\", \"Greece\", \"Hungary\", \"India\", \"Italy\", \"Japan\", \"Montenegro\", \"New Zeeland\", \"Norway\", \"Portugal\", \"Romania\", \"Russia\", \"Serbia\", \"South Africa\", \"Sweden\", \"Turkey\", \"United Kingdom\", \"United States\"], \"y\": [62149, 1040600, 144337, 187500, 66996, 700, 1737800, 2800720, 176000, 1040600, 73905, 1243400, 4661, 13325, 18060, 1180, 89235, 665706, 3394369, 1250000, 9726, 800, 3271844, 1011687, 117465]}],\n",
       "                        {\"legend\": {\"bgcolor\": \"#151516\", \"font\": {\"color\": \"#D9D9D9\"}}, \"paper_bgcolor\": \"#151516\", \"plot_bgcolor\": \"#151516\", \"title\": {\"font\": {\"color\": \"#D9D9D9\"}}, \"xaxis\": {\"gridcolor\": \"#434343\", \"showgrid\": true, \"tickfont\": {\"color\": \"#C2C2C2\"}, \"title\": {\"font\": {\"color\": \"#D9D9D9\"}, \"text\": \"\"}, \"zerolinecolor\": \"#666570\"}, \"yaxis\": {\"gridcolor\": \"#434343\", \"showgrid\": true, \"tickfont\": {\"color\": \"#C2C2C2\"}, \"title\": {\"font\": {\"color\": \"#D9D9D9\"}, \"text\": \"\"}, \"zerolinecolor\": \"#666570\"}},\n",
       "                        {\"showLink\": true, \"linkText\": \"Export to plot.ly\", \"plotlyServerURL\": \"https://plot.ly\", \"responsive\": true}\n",
       "                    ).then(function(){\n",
       "                            \n",
       "var gd = document.getElementById('da217210-4fc3-435f-b9ef-bfdbb5117b0c');\n",
       "var x = new MutationObserver(function (mutations, observer) {{\n",
       "        var display = window.getComputedStyle(gd).display;\n",
       "        if (!display || display === 'none') {{\n",
       "            console.log([gd, 'removed!']);\n",
       "            Plotly.purge(gd);\n",
       "            observer.disconnect();\n",
       "        }}\n",
       "}});\n",
       "\n",
       "// Listen for the removal of the full notebook cells\n",
       "var notebookContainer = gd.closest('#notebook-container');\n",
       "if (notebookContainer) {{\n",
       "    x.observe(notebookContainer, {childList: true});\n",
       "}}\n",
       "\n",
       "// Listen for the clearing of the current output cell\n",
       "var outputEl = gd.closest('.output');\n",
       "if (outputEl) {{\n",
       "    x.observe(outputEl, {childList: true});\n",
       "}}\n",
       "\n",
       "                        })\n",
       "                };\n",
       "                });\n",
       "            </script>\n",
       "        </div>"
      ]
     },
     "metadata": {},
     "output_type": "display_data"
    }
   ],
   "source": [
    "country['Deaths'].sum().iplot(fill='true')"
   ]
  },
  {
   "cell_type": "code",
   "execution_count": 41,
   "metadata": {},
   "outputs": [
    {
     "data": {
      "application/vnd.plotly.v1+json": {
       "config": {
        "linkText": "Export to plot.ly",
        "plotlyServerURL": "https://plot.ly",
        "showLink": true
       },
       "data": [
        {
         "line": {
          "color": "rgba(255, 153, 51, 1.0)",
          "dash": "solid",
          "shape": "linear",
          "width": 1.3
         },
         "marker": {
          "size": 12,
          "symbol": "circle"
         },
         "mode": "markers",
         "name": "Deaths",
         "text": "",
         "type": "scatter",
         "uid": "39d2ca3b-1591-499d-915d-86708a86c613",
         "x": [
          "Australia",
          "Austria",
          "Belgium",
          "Bulgaria",
          "Canada",
          "Denmark",
          "France",
          "Germany",
          "Greece",
          "Hungary",
          "India",
          "Italy",
          "Japan",
          "Montenegro",
          "New Zeeland",
          "Norway",
          "Portugal",
          "Romania",
          "Russia",
          "Serbia",
          "South Africa",
          "Sweden",
          "Turkey",
          "United Kingdom",
          "United States"
         ],
         "y": [
          62149,
          1040600,
          144337,
          187500,
          66996,
          700,
          1737800,
          2800720,
          176000,
          1040600,
          73905,
          1243400,
          4661,
          13325,
          18060,
          1180,
          89235,
          665706,
          3394369,
          1250000,
          9726,
          800,
          3271844,
          1011687,
          117465
         ]
        }
       ],
       "layout": {
        "legend": {
         "bgcolor": "#151516",
         "font": {
          "color": "#D9D9D9"
         }
        },
        "paper_bgcolor": "#151516",
        "plot_bgcolor": "#151516",
        "title": {
         "font": {
          "color": "#D9D9D9"
         }
        },
        "xaxis": {
         "gridcolor": "#434343",
         "showgrid": true,
         "tickfont": {
          "color": "#C2C2C2"
         },
         "title": {
          "font": {
           "color": "#D9D9D9"
          },
          "text": ""
         },
         "zerolinecolor": "#666570"
        },
        "yaxis": {
         "gridcolor": "#434343",
         "showgrid": true,
         "tickfont": {
          "color": "#C2C2C2"
         },
         "title": {
          "font": {
           "color": "#D9D9D9"
          },
          "text": ""
         },
         "zerolinecolor": "#666570"
        }
       }
      },
      "text/html": [
       "<div>\n",
       "        \n",
       "        \n",
       "            <div id=\"12b11fc0-00c9-4d66-abfe-4af8e540948e\" class=\"plotly-graph-div\" style=\"height:525px; width:100%;\"></div>\n",
       "            <script type=\"text/javascript\">\n",
       "                require([\"plotly\"], function(Plotly) {\n",
       "                    window.PLOTLYENV=window.PLOTLYENV || {};\n",
       "                    window.PLOTLYENV.BASE_URL='https://plot.ly';\n",
       "                    \n",
       "                if (document.getElementById(\"12b11fc0-00c9-4d66-abfe-4af8e540948e\")) {\n",
       "                    Plotly.newPlot(\n",
       "                        '12b11fc0-00c9-4d66-abfe-4af8e540948e',\n",
       "                        [{\"line\": {\"color\": \"rgba(255, 153, 51, 1.0)\", \"dash\": \"solid\", \"shape\": \"linear\", \"width\": 1.3}, \"marker\": {\"size\": 12, \"symbol\": \"circle\"}, \"mode\": \"markers\", \"name\": \"Deaths\", \"text\": \"\", \"type\": \"scatter\", \"uid\": \"39d2ca3b-1591-499d-915d-86708a86c613\", \"x\": [\"Australia\", \"Austria\", \"Belgium\", \"Bulgaria\", \"Canada\", \"Denmark\", \"France\", \"Germany\", \"Greece\", \"Hungary\", \"India\", \"Italy\", \"Japan\", \"Montenegro\", \"New Zeeland\", \"Norway\", \"Portugal\", \"Romania\", \"Russia\", \"Serbia\", \"South Africa\", \"Sweden\", \"Turkey\", \"United Kingdom\", \"United States\"], \"y\": [62149, 1040600, 144337, 187500, 66996, 700, 1737800, 2800720, 176000, 1040600, 73905, 1243400, 4661, 13325, 18060, 1180, 89235, 665706, 3394369, 1250000, 9726, 800, 3271844, 1011687, 117465]}],\n",
       "                        {\"legend\": {\"bgcolor\": \"#151516\", \"font\": {\"color\": \"#D9D9D9\"}}, \"paper_bgcolor\": \"#151516\", \"plot_bgcolor\": \"#151516\", \"title\": {\"font\": {\"color\": \"#D9D9D9\"}}, \"xaxis\": {\"gridcolor\": \"#434343\", \"showgrid\": true, \"tickfont\": {\"color\": \"#C2C2C2\"}, \"title\": {\"font\": {\"color\": \"#D9D9D9\"}, \"text\": \"\"}, \"zerolinecolor\": \"#666570\"}, \"yaxis\": {\"gridcolor\": \"#434343\", \"showgrid\": true, \"tickfont\": {\"color\": \"#C2C2C2\"}, \"title\": {\"font\": {\"color\": \"#D9D9D9\"}, \"text\": \"\"}, \"zerolinecolor\": \"#666570\"}},\n",
       "                        {\"showLink\": true, \"linkText\": \"Export to plot.ly\", \"plotlyServerURL\": \"https://plot.ly\", \"responsive\": true}\n",
       "                    ).then(function(){\n",
       "                            \n",
       "var gd = document.getElementById('12b11fc0-00c9-4d66-abfe-4af8e540948e');\n",
       "var x = new MutationObserver(function (mutations, observer) {{\n",
       "        var display = window.getComputedStyle(gd).display;\n",
       "        if (!display || display === 'none') {{\n",
       "            console.log([gd, 'removed!']);\n",
       "            Plotly.purge(gd);\n",
       "            observer.disconnect();\n",
       "        }}\n",
       "}});\n",
       "\n",
       "// Listen for the removal of the full notebook cells\n",
       "var notebookContainer = gd.closest('#notebook-container');\n",
       "if (notebookContainer) {{\n",
       "    x.observe(notebookContainer, {childList: true});\n",
       "}}\n",
       "\n",
       "// Listen for the clearing of the current output cell\n",
       "var outputEl = gd.closest('.output');\n",
       "if (outputEl) {{\n",
       "    x.observe(outputEl, {childList: true});\n",
       "}}\n",
       "\n",
       "                        })\n",
       "                };\n",
       "                });\n",
       "            </script>\n",
       "        </div>"
      ]
     },
     "metadata": {},
     "output_type": "display_data"
    }
   ],
   "source": [
    "country['Deaths'].sum().iplot(kind='scatter',mode='markers')"
   ]
  },
  {
   "cell_type": "code",
   "execution_count": 42,
   "metadata": {},
   "outputs": [
    {
     "data": {
      "text/html": [
       "<div>\n",
       "<style scoped>\n",
       "    .dataframe tbody tr th:only-of-type {\n",
       "        vertical-align: middle;\n",
       "    }\n",
       "\n",
       "    .dataframe tbody tr th {\n",
       "        vertical-align: top;\n",
       "    }\n",
       "\n",
       "    .dataframe thead th {\n",
       "        text-align: right;\n",
       "    }\n",
       "</style>\n",
       "<table border=\"1\" class=\"dataframe\">\n",
       "  <thead>\n",
       "    <tr style=\"text-align: right;\">\n",
       "      <th></th>\n",
       "      <th>War</th>\n",
       "      <th>Deaths</th>\n",
       "    </tr>\n",
       "  </thead>\n",
       "  <tbody>\n",
       "    <tr>\n",
       "      <td>0</td>\n",
       "      <td>World War I</td>\n",
       "      <td>18422765</td>\n",
       "    </tr>\n",
       "    <tr>\n",
       "      <td>1</td>\n",
       "      <td>World War II</td>\n",
       "      <td>65321347</td>\n",
       "    </tr>\n",
       "  </tbody>\n",
       "</table>\n",
       "</div>"
      ],
      "text/plain": [
       "            War    Deaths\n",
       "0   World War I  18422765\n",
       "1  World War II  65321347"
      ]
     },
     "execution_count": 42,
     "metadata": {},
     "output_type": "execute_result"
    }
   ],
   "source": [
    "ww2"
   ]
  },
  {
   "cell_type": "code",
   "execution_count": 45,
   "metadata": {},
   "outputs": [
    {
     "data": {
      "application/vnd.plotly.v1+json": {
       "config": {
        "plotlyServerURL": "https://plot.ly"
       },
       "data": [
        {
         "labels": [
          "World War I",
          "World War II"
         ],
         "type": "pie",
         "uid": "05aa14a0-03ba-412f-b394-ac55552c711f",
         "values": [
          18422765,
          65321347
         ]
        }
       ],
       "layout": {}
      },
      "text/html": [
       "<div>\n",
       "        \n",
       "        \n",
       "            <div id=\"28800080-4e37-4b43-b8ee-3b30dd237cfe\" class=\"plotly-graph-div\" style=\"height:525px; width:100%;\"></div>\n",
       "            <script type=\"text/javascript\">\n",
       "                require([\"plotly\"], function(Plotly) {\n",
       "                    window.PLOTLYENV=window.PLOTLYENV || {};\n",
       "                    window.PLOTLYENV.BASE_URL='https://plot.ly';\n",
       "                    \n",
       "                if (document.getElementById(\"28800080-4e37-4b43-b8ee-3b30dd237cfe\")) {\n",
       "                    Plotly.newPlot(\n",
       "                        '28800080-4e37-4b43-b8ee-3b30dd237cfe',\n",
       "                        [{\"labels\": [\"World War I\", \"World War II\"], \"type\": \"pie\", \"uid\": \"05aa14a0-03ba-412f-b394-ac55552c711f\", \"values\": [18422765, 65321347]}],\n",
       "                        {},\n",
       "                        {\"plotlyServerURL\": \"https://plot.ly\", \"responsive\": true}\n",
       "                    ).then(function(){\n",
       "                            \n",
       "var gd = document.getElementById('28800080-4e37-4b43-b8ee-3b30dd237cfe');\n",
       "var x = new MutationObserver(function (mutations, observer) {{\n",
       "        var display = window.getComputedStyle(gd).display;\n",
       "        if (!display || display === 'none') {{\n",
       "            console.log([gd, 'removed!']);\n",
       "            Plotly.purge(gd);\n",
       "            observer.disconnect();\n",
       "        }}\n",
       "}});\n",
       "\n",
       "// Listen for the removal of the full notebook cells\n",
       "var notebookContainer = gd.closest('#notebook-container');\n",
       "if (notebookContainer) {{\n",
       "    x.observe(notebookContainer, {childList: true});\n",
       "}}\n",
       "\n",
       "// Listen for the clearing of the current output cell\n",
       "var outputEl = gd.closest('.output');\n",
       "if (outputEl) {{\n",
       "    x.observe(outputEl, {childList: true});\n",
       "}}\n",
       "\n",
       "                        })\n",
       "                };\n",
       "                });\n",
       "            </script>\n",
       "        </div>"
      ]
     },
     "metadata": {},
     "output_type": "display_data"
    }
   ],
   "source": [
    "import plotly.graph_objects as go\n",
    "\n",
    "labels = ['World War I','World War II']\n",
    "values = [18422765, 65321347]\n",
    "\n",
    "fig = go.Figure(data=[go.Pie(labels=labels, values=values)])\n",
    "fig.show()"
   ]
  },
  {
   "cell_type": "code",
   "execution_count": null,
   "metadata": {},
   "outputs": [],
   "source": []
  }
 ],
 "metadata": {
  "kernelspec": {
   "display_name": "Python 3",
   "language": "python",
   "name": "python3"
  },
  "language_info": {
   "codemirror_mode": {
    "name": "ipython",
    "version": 3
   },
   "file_extension": ".py",
   "mimetype": "text/x-python",
   "name": "python",
   "nbconvert_exporter": "python",
   "pygments_lexer": "ipython3",
   "version": "3.7.4"
  }
 },
 "nbformat": 4,
 "nbformat_minor": 2
}
